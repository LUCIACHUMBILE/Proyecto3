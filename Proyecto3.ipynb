{
 "cells": [
  {
   "cell_type": "markdown",
   "id": "3Xg_RQfnafXz",
   "metadata": {
    "id": "3Xg_RQfnafXz"
   },
   "source": [
    "# ¡Llena ese carrito!"
   ]
  },
  {
   "cell_type": "markdown",
   "id": "mhIvmmkW414q",
   "metadata": {
    "id": "mhIvmmkW414q"
   },
   "source": [
    "# Introducción\n",
    "\n",
    "Instacart es una plataforma de entregas de comestibles donde la clientela puede registrar un pedido y hacer que se lo entreguen, similar a Uber Eats y Door Dash.\n",
    "El conjunto de datos que te hemos proporcionado tiene modificaciones del original. Redujimos el tamaño del conjunto para que tus cálculos se hicieran más rápido e introdujimos valores ausentes y duplicados. Tuvimos cuidado de conservar las distribuciones de los datos originales cuando hicimos los cambios.\n",
    "\n",
    "Debes completar tres pasos. Para cada uno de ellos, escribe una breve introducción que refleje con claridad cómo pretendes resolver cada paso, y escribe párrafos explicatorios que justifiquen tus decisiones al tiempo que avanzas en tu solución.  También escribe una conclusión que resuma tus hallazgos y elecciones.\n"
   ]
  },
  {
   "cell_type": "markdown",
   "id": "3MbyzpOQZ5Or",
   "metadata": {
    "id": "3MbyzpOQZ5Or"
   },
   "source": [
    "## Diccionario de datos\n",
    "\n",
    "Hay cinco tablas en el conjunto de datos, y tendrás que usarlas todas para hacer el preprocesamiento de datos y el análisis exploratorio de datos. A continuación se muestra un diccionario de datos que enumera las columnas de cada tabla y describe los datos que contienen.\n",
    "\n",
    "- `instacart_orders.csv`: cada fila corresponde a un pedido en la aplicación Instacart.\n",
    "    - `'order_id'`: número de ID que identifica de manera única cada pedido.\n",
    "    - `'user_id'`: número de ID que identifica de manera única la cuenta de cada cliente.\n",
    "    - `'order_number'`: el número de veces que este cliente ha hecho un pedido.\n",
    "    - `'order_dow'`: día de la semana en que se hizo el pedido (0 si es domingo).\n",
    "    - `'order_hour_of_day'`: hora del día en que se hizo el pedido.\n",
    "    - `'days_since_prior_order'`: número de días transcurridos desde que este cliente hizo su pedido anterior.\n",
    "- `products.csv`: cada fila corresponde a un producto único que pueden comprar los clientes.\n",
    "    - `'product_id'`: número ID que identifica de manera única cada producto.\n",
    "    - `'product_name'`: nombre del producto.\n",
    "    - `'aisle_id'`: número ID que identifica de manera única cada categoría de pasillo de víveres.\n",
    "    - `'department_id'`: número ID que identifica de manera única cada departamento de víveres.\n",
    "- `order_products.csv`: cada fila corresponde a un artículo pedido en un pedido.\n",
    "    - `'order_id'`: número de ID que identifica de manera única cada pedido.\n",
    "    - `'product_id'`: número ID que identifica de manera única cada producto.\n",
    "    - `'add_to_cart_order'`: el orden secuencial en el que se añadió cada artículo en el carrito.\n",
    "    - `'reordered'`: 0 si el cliente nunca ha pedido este producto antes, 1 si lo ha pedido.\n",
    "- `aisles.csv`\n",
    "    - `'aisle_id'`: número ID que identifica de manera única cada categoría de pasillo de víveres.\n",
    "    - `'aisle'`: nombre del pasillo.\n",
    "- `departments.csv`\n",
    "    - `'department_id'`: número ID que identifica de manera única cada departamento de víveres.\n",
    "    - `'department'`: nombre del departamento."
   ]
  },
  {
   "cell_type": "markdown",
   "id": "n3Ha_cNSZ8lK",
   "metadata": {
    "id": "n3Ha_cNSZ8lK"
   },
   "source": [
    "# Paso 1. Descripción de los datos\n",
    "\n",
    "Lee los archivos de datos (`/datasets/instacart_orders.csv`, `/datasets/products.csv`, `/datasets/aisles.csv`, `/datasets/departments.csv` y `/datasets/order_products.csv`) con `pd.read_csv()` usando los parámetros adecuados para leer los datos correctamente. Verifica la información para cada DataFrame creado.\n"
   ]
  },
  {
   "cell_type": "markdown",
   "id": "OmlQPLlyaAfR",
   "metadata": {
    "id": "OmlQPLlyaAfR"
   },
   "source": [
    "## Plan de solución\n",
    "\n",
    "Escribe aquí tu plan de solución para el Paso 1. Descripción de los datos."
   ]
  },
  {
   "cell_type": "markdown",
   "id": "dc17b623",
   "metadata": {},
   "source": [
    "Importaré la biblioteca de pandas para llamar a los dataframes de cada archivo, mostraré la información y revisaré si están separados correctamente."
   ]
  },
  {
   "cell_type": "code",
   "execution_count": 1,
   "id": "0ef4bbf6",
   "metadata": {
    "id": "fbf1adab"
   },
   "outputs": [],
   "source": [
    "import pandas as pd # importar librerías\n",
    "from matplotlib import pyplot as plt"
   ]
  },
  {
   "cell_type": "code",
   "execution_count": 2,
   "id": "ad36396d",
   "metadata": {
    "id": "ad36396d"
   },
   "outputs": [],
   "source": [
    "orders = pd.read_csv(\"/datasets/instacart_orders.csv\",sep=\";\") # leer conjuntos de datos en los DataFrames\n",
    "products = pd.read_csv(\"/datasets/products.csv\",sep=\";\")\n",
    "aisles = pd.read_csv(\"/datasets/aisles.csv\",sep=\";\")\n",
    "departments = pd.read_csv(\"/datasets/departments.csv\",sep=\";\")\n",
    "order_products = pd.read_csv(\"/datasets/order_products.csv\",sep=\";\")"
   ]
  },
  {
   "cell_type": "code",
   "execution_count": 3,
   "id": "ad6a1efa",
   "metadata": {
    "id": "ad6a1efa"
   },
   "outputs": [
    {
     "name": "stdout",
     "output_type": "stream",
     "text": [
      "<class 'pandas.core.frame.DataFrame'>\n",
      "RangeIndex: 478967 entries, 0 to 478966\n",
      "Data columns (total 6 columns):\n",
      " #   Column                  Non-Null Count   Dtype  \n",
      "---  ------                  --------------   -----  \n",
      " 0   order_id                478967 non-null  int64  \n",
      " 1   user_id                 478967 non-null  int64  \n",
      " 2   order_number            478967 non-null  int64  \n",
      " 3   order_dow               478967 non-null  int64  \n",
      " 4   order_hour_of_day       478967 non-null  int64  \n",
      " 5   days_since_prior_order  450148 non-null  float64\n",
      "dtypes: float64(1), int64(5)\n",
      "memory usage: 21.9 MB\n"
     ]
    },
    {
     "data": {
      "text/html": [
       "<div>\n",
       "<style scoped>\n",
       "    .dataframe tbody tr th:only-of-type {\n",
       "        vertical-align: middle;\n",
       "    }\n",
       "\n",
       "    .dataframe tbody tr th {\n",
       "        vertical-align: top;\n",
       "    }\n",
       "\n",
       "    .dataframe thead th {\n",
       "        text-align: right;\n",
       "    }\n",
       "</style>\n",
       "<table border=\"1\" class=\"dataframe\">\n",
       "  <thead>\n",
       "    <tr style=\"text-align: right;\">\n",
       "      <th></th>\n",
       "      <th>order_id</th>\n",
       "      <th>user_id</th>\n",
       "      <th>order_number</th>\n",
       "      <th>order_dow</th>\n",
       "      <th>order_hour_of_day</th>\n",
       "      <th>days_since_prior_order</th>\n",
       "    </tr>\n",
       "  </thead>\n",
       "  <tbody>\n",
       "    <tr>\n",
       "      <th>122213</th>\n",
       "      <td>3325291</td>\n",
       "      <td>121846</td>\n",
       "      <td>57</td>\n",
       "      <td>5</td>\n",
       "      <td>15</td>\n",
       "      <td>1.0</td>\n",
       "    </tr>\n",
       "    <tr>\n",
       "      <th>302775</th>\n",
       "      <td>2106618</td>\n",
       "      <td>61366</td>\n",
       "      <td>1</td>\n",
       "      <td>6</td>\n",
       "      <td>17</td>\n",
       "      <td>NaN</td>\n",
       "    </tr>\n",
       "    <tr>\n",
       "      <th>395526</th>\n",
       "      <td>2409034</td>\n",
       "      <td>153898</td>\n",
       "      <td>13</td>\n",
       "      <td>3</td>\n",
       "      <td>9</td>\n",
       "      <td>22.0</td>\n",
       "    </tr>\n",
       "    <tr>\n",
       "      <th>214780</th>\n",
       "      <td>1461133</td>\n",
       "      <td>16185</td>\n",
       "      <td>4</td>\n",
       "      <td>2</td>\n",
       "      <td>17</td>\n",
       "      <td>20.0</td>\n",
       "    </tr>\n",
       "    <tr>\n",
       "      <th>299632</th>\n",
       "      <td>293074</td>\n",
       "      <td>139376</td>\n",
       "      <td>7</td>\n",
       "      <td>4</td>\n",
       "      <td>14</td>\n",
       "      <td>8.0</td>\n",
       "    </tr>\n",
       "  </tbody>\n",
       "</table>\n",
       "</div>"
      ],
      "text/plain": [
       "        order_id  user_id  order_number  order_dow  order_hour_of_day  \\\n",
       "122213   3325291   121846            57          5                 15   \n",
       "302775   2106618    61366             1          6                 17   \n",
       "395526   2409034   153898            13          3                  9   \n",
       "214780   1461133    16185             4          2                 17   \n",
       "299632    293074   139376             7          4                 14   \n",
       "\n",
       "        days_since_prior_order  \n",
       "122213                     1.0  \n",
       "302775                     NaN  \n",
       "395526                    22.0  \n",
       "214780                    20.0  \n",
       "299632                     8.0  "
      ]
     },
     "execution_count": 3,
     "metadata": {},
     "output_type": "execute_result"
    }
   ],
   "source": [
    "orders.info()# mostrar información del DataFrame\n",
    "orders.sample(5)"
   ]
  },
  {
   "cell_type": "code",
   "execution_count": 4,
   "id": "5130e05e",
   "metadata": {
    "id": "5130e05e"
   },
   "outputs": [
    {
     "name": "stdout",
     "output_type": "stream",
     "text": [
      "<class 'pandas.core.frame.DataFrame'>\n",
      "RangeIndex: 49694 entries, 0 to 49693\n",
      "Data columns (total 4 columns):\n",
      " #   Column         Non-Null Count  Dtype \n",
      "---  ------         --------------  ----- \n",
      " 0   product_id     49694 non-null  int64 \n",
      " 1   product_name   48436 non-null  object\n",
      " 2   aisle_id       49694 non-null  int64 \n",
      " 3   department_id  49694 non-null  int64 \n",
      "dtypes: int64(3), object(1)\n",
      "memory usage: 1.5+ MB\n"
     ]
    },
    {
     "data": {
      "text/html": [
       "<div>\n",
       "<style scoped>\n",
       "    .dataframe tbody tr th:only-of-type {\n",
       "        vertical-align: middle;\n",
       "    }\n",
       "\n",
       "    .dataframe tbody tr th {\n",
       "        vertical-align: top;\n",
       "    }\n",
       "\n",
       "    .dataframe thead th {\n",
       "        text-align: right;\n",
       "    }\n",
       "</style>\n",
       "<table border=\"1\" class=\"dataframe\">\n",
       "  <thead>\n",
       "    <tr style=\"text-align: right;\">\n",
       "      <th></th>\n",
       "      <th>product_id</th>\n",
       "      <th>product_name</th>\n",
       "      <th>aisle_id</th>\n",
       "      <th>department_id</th>\n",
       "    </tr>\n",
       "  </thead>\n",
       "  <tbody>\n",
       "    <tr>\n",
       "      <th>4277</th>\n",
       "      <td>4278</td>\n",
       "      <td>Herring In Real Sour Cream</td>\n",
       "      <td>95</td>\n",
       "      <td>15</td>\n",
       "    </tr>\n",
       "    <tr>\n",
       "      <th>21076</th>\n",
       "      <td>21077</td>\n",
       "      <td>Cara Cara Navel Orange</td>\n",
       "      <td>24</td>\n",
       "      <td>4</td>\n",
       "    </tr>\n",
       "    <tr>\n",
       "      <th>44006</th>\n",
       "      <td>44007</td>\n",
       "      <td>Milk Chocolate King Size Bar</td>\n",
       "      <td>45</td>\n",
       "      <td>19</td>\n",
       "    </tr>\n",
       "    <tr>\n",
       "      <th>9133</th>\n",
       "      <td>9134</td>\n",
       "      <td>White Meat Poultry &amp; Pork Bbq Sauce</td>\n",
       "      <td>5</td>\n",
       "      <td>13</td>\n",
       "    </tr>\n",
       "    <tr>\n",
       "      <th>35166</th>\n",
       "      <td>35167</td>\n",
       "      <td>Organic Spicy Taco Seasoning</td>\n",
       "      <td>30</td>\n",
       "      <td>6</td>\n",
       "    </tr>\n",
       "  </tbody>\n",
       "</table>\n",
       "</div>"
      ],
      "text/plain": [
       "       product_id                         product_name  aisle_id  \\\n",
       "4277         4278           Herring In Real Sour Cream        95   \n",
       "21076       21077               Cara Cara Navel Orange        24   \n",
       "44006       44007         Milk Chocolate King Size Bar        45   \n",
       "9133         9134  White Meat Poultry & Pork Bbq Sauce         5   \n",
       "35166       35167         Organic Spicy Taco Seasoning        30   \n",
       "\n",
       "       department_id  \n",
       "4277              15  \n",
       "21076              4  \n",
       "44006             19  \n",
       "9133              13  \n",
       "35166              6  "
      ]
     },
     "execution_count": 4,
     "metadata": {},
     "output_type": "execute_result"
    }
   ],
   "source": [
    "products.info()# mostrar información del DataFrame\n",
    "products.sample(5)"
   ]
  },
  {
   "cell_type": "code",
   "execution_count": 5,
   "id": "d8370c05",
   "metadata": {
    "id": "d8370c05"
   },
   "outputs": [
    {
     "name": "stdout",
     "output_type": "stream",
     "text": [
      "<class 'pandas.core.frame.DataFrame'>\n",
      "RangeIndex: 134 entries, 0 to 133\n",
      "Data columns (total 2 columns):\n",
      " #   Column    Non-Null Count  Dtype \n",
      "---  ------    --------------  ----- \n",
      " 0   aisle_id  134 non-null    int64 \n",
      " 1   aisle     134 non-null    object\n",
      "dtypes: int64(1), object(1)\n",
      "memory usage: 2.2+ KB\n"
     ]
    },
    {
     "data": {
      "text/html": [
       "<div>\n",
       "<style scoped>\n",
       "    .dataframe tbody tr th:only-of-type {\n",
       "        vertical-align: middle;\n",
       "    }\n",
       "\n",
       "    .dataframe tbody tr th {\n",
       "        vertical-align: top;\n",
       "    }\n",
       "\n",
       "    .dataframe thead th {\n",
       "        text-align: right;\n",
       "    }\n",
       "</style>\n",
       "<table border=\"1\" class=\"dataframe\">\n",
       "  <thead>\n",
       "    <tr style=\"text-align: right;\">\n",
       "      <th></th>\n",
       "      <th>aisle_id</th>\n",
       "      <th>aisle</th>\n",
       "    </tr>\n",
       "  </thead>\n",
       "  <tbody>\n",
       "    <tr>\n",
       "      <th>103</th>\n",
       "      <td>104</td>\n",
       "      <td>spices seasonings</td>\n",
       "    </tr>\n",
       "    <tr>\n",
       "      <th>123</th>\n",
       "      <td>124</td>\n",
       "      <td>spirits</td>\n",
       "    </tr>\n",
       "    <tr>\n",
       "      <th>31</th>\n",
       "      <td>32</td>\n",
       "      <td>packaged produce</td>\n",
       "    </tr>\n",
       "    <tr>\n",
       "      <th>65</th>\n",
       "      <td>66</td>\n",
       "      <td>asian foods</td>\n",
       "    </tr>\n",
       "    <tr>\n",
       "      <th>68</th>\n",
       "      <td>69</td>\n",
       "      <td>soup broth bouillon</td>\n",
       "    </tr>\n",
       "  </tbody>\n",
       "</table>\n",
       "</div>"
      ],
      "text/plain": [
       "     aisle_id                aisle\n",
       "103       104    spices seasonings\n",
       "123       124              spirits\n",
       "31         32     packaged produce\n",
       "65         66          asian foods\n",
       "68         69  soup broth bouillon"
      ]
     },
     "execution_count": 5,
     "metadata": {},
     "output_type": "execute_result"
    }
   ],
   "source": [
    "aisles.info()# mostrar información del DataFrame\n",
    "aisles.sample(5)"
   ]
  },
  {
   "cell_type": "code",
   "execution_count": 6,
   "id": "59e2090f",
   "metadata": {
    "id": "59e2090f"
   },
   "outputs": [
    {
     "name": "stdout",
     "output_type": "stream",
     "text": [
      "<class 'pandas.core.frame.DataFrame'>\n",
      "RangeIndex: 21 entries, 0 to 20\n",
      "Data columns (total 2 columns):\n",
      " #   Column         Non-Null Count  Dtype \n",
      "---  ------         --------------  ----- \n",
      " 0   department_id  21 non-null     int64 \n",
      " 1   department     21 non-null     object\n",
      "dtypes: int64(1), object(1)\n",
      "memory usage: 464.0+ bytes\n"
     ]
    },
    {
     "data": {
      "text/html": [
       "<div>\n",
       "<style scoped>\n",
       "    .dataframe tbody tr th:only-of-type {\n",
       "        vertical-align: middle;\n",
       "    }\n",
       "\n",
       "    .dataframe tbody tr th {\n",
       "        vertical-align: top;\n",
       "    }\n",
       "\n",
       "    .dataframe thead th {\n",
       "        text-align: right;\n",
       "    }\n",
       "</style>\n",
       "<table border=\"1\" class=\"dataframe\">\n",
       "  <thead>\n",
       "    <tr style=\"text-align: right;\">\n",
       "      <th></th>\n",
       "      <th>department_id</th>\n",
       "      <th>department</th>\n",
       "    </tr>\n",
       "  </thead>\n",
       "  <tbody>\n",
       "    <tr>\n",
       "      <th>1</th>\n",
       "      <td>2</td>\n",
       "      <td>other</td>\n",
       "    </tr>\n",
       "    <tr>\n",
       "      <th>20</th>\n",
       "      <td>21</td>\n",
       "      <td>missing</td>\n",
       "    </tr>\n",
       "    <tr>\n",
       "      <th>2</th>\n",
       "      <td>3</td>\n",
       "      <td>bakery</td>\n",
       "    </tr>\n",
       "    <tr>\n",
       "      <th>9</th>\n",
       "      <td>10</td>\n",
       "      <td>bulk</td>\n",
       "    </tr>\n",
       "    <tr>\n",
       "      <th>18</th>\n",
       "      <td>19</td>\n",
       "      <td>snacks</td>\n",
       "    </tr>\n",
       "  </tbody>\n",
       "</table>\n",
       "</div>"
      ],
      "text/plain": [
       "    department_id department\n",
       "1               2      other\n",
       "20             21    missing\n",
       "2               3     bakery\n",
       "9              10       bulk\n",
       "18             19     snacks"
      ]
     },
     "execution_count": 6,
     "metadata": {},
     "output_type": "execute_result"
    }
   ],
   "source": [
    "departments.info()# mostrar información del DataFrame\n",
    "departments.sample(5)"
   ]
  },
  {
   "cell_type": "code",
   "execution_count": 7,
   "id": "6fc81694",
   "metadata": {
    "id": "6fc81694"
   },
   "outputs": [
    {
     "name": "stdout",
     "output_type": "stream",
     "text": [
      "<class 'pandas.core.frame.DataFrame'>\n",
      "RangeIndex: 4545007 entries, 0 to 4545006\n",
      "Data columns (total 4 columns):\n",
      " #   Column             Non-Null Count    Dtype  \n",
      "---  ------             --------------    -----  \n",
      " 0   order_id           4545007 non-null  int64  \n",
      " 1   product_id         4545007 non-null  int64  \n",
      " 2   add_to_cart_order  4544171 non-null  float64\n",
      " 3   reordered          4545007 non-null  int64  \n",
      "dtypes: float64(1), int64(3)\n",
      "memory usage: 138.7 MB\n"
     ]
    },
    {
     "data": {
      "text/html": [
       "<div>\n",
       "<style scoped>\n",
       "    .dataframe tbody tr th:only-of-type {\n",
       "        vertical-align: middle;\n",
       "    }\n",
       "\n",
       "    .dataframe tbody tr th {\n",
       "        vertical-align: top;\n",
       "    }\n",
       "\n",
       "    .dataframe thead th {\n",
       "        text-align: right;\n",
       "    }\n",
       "</style>\n",
       "<table border=\"1\" class=\"dataframe\">\n",
       "  <thead>\n",
       "    <tr style=\"text-align: right;\">\n",
       "      <th></th>\n",
       "      <th>order_id</th>\n",
       "      <th>product_id</th>\n",
       "      <th>add_to_cart_order</th>\n",
       "      <th>reordered</th>\n",
       "    </tr>\n",
       "  </thead>\n",
       "  <tbody>\n",
       "    <tr>\n",
       "      <th>4076731</th>\n",
       "      <td>2648941</td>\n",
       "      <td>14913</td>\n",
       "      <td>2.0</td>\n",
       "      <td>1</td>\n",
       "    </tr>\n",
       "    <tr>\n",
       "      <th>2529552</th>\n",
       "      <td>566946</td>\n",
       "      <td>29487</td>\n",
       "      <td>2.0</td>\n",
       "      <td>0</td>\n",
       "    </tr>\n",
       "    <tr>\n",
       "      <th>332047</th>\n",
       "      <td>1015694</td>\n",
       "      <td>19019</td>\n",
       "      <td>29.0</td>\n",
       "      <td>0</td>\n",
       "    </tr>\n",
       "    <tr>\n",
       "      <th>3486252</th>\n",
       "      <td>3072212</td>\n",
       "      <td>35227</td>\n",
       "      <td>12.0</td>\n",
       "      <td>0</td>\n",
       "    </tr>\n",
       "    <tr>\n",
       "      <th>1320880</th>\n",
       "      <td>2768965</td>\n",
       "      <td>19370</td>\n",
       "      <td>8.0</td>\n",
       "      <td>1</td>\n",
       "    </tr>\n",
       "  </tbody>\n",
       "</table>\n",
       "</div>"
      ],
      "text/plain": [
       "         order_id  product_id  add_to_cart_order  reordered\n",
       "4076731   2648941       14913                2.0          1\n",
       "2529552    566946       29487                2.0          0\n",
       "332047    1015694       19019               29.0          0\n",
       "3486252   3072212       35227               12.0          0\n",
       "1320880   2768965       19370                8.0          1"
      ]
     },
     "execution_count": 7,
     "metadata": {},
     "output_type": "execute_result"
    }
   ],
   "source": [
    "order_products.info(show_counts=True)# mostrar información del DataFrame\n",
    "order_products.sample(5)"
   ]
  },
  {
   "cell_type": "code",
   "execution_count": 8,
   "id": "bcb6f4c3",
   "metadata": {},
   "outputs": [
    {
     "data": {
      "text/html": [
       "<div>\n",
       "<style scoped>\n",
       "    .dataframe tbody tr th:only-of-type {\n",
       "        vertical-align: middle;\n",
       "    }\n",
       "\n",
       "    .dataframe tbody tr th {\n",
       "        vertical-align: top;\n",
       "    }\n",
       "\n",
       "    .dataframe thead th {\n",
       "        text-align: right;\n",
       "    }\n",
       "</style>\n",
       "<table border=\"1\" class=\"dataframe\">\n",
       "  <thead>\n",
       "    <tr style=\"text-align: right;\">\n",
       "      <th></th>\n",
       "      <th>product_id</th>\n",
       "      <th>add_to_cart_order</th>\n",
       "      <th>reordered</th>\n",
       "    </tr>\n",
       "    <tr>\n",
       "      <th>order_id</th>\n",
       "      <th></th>\n",
       "      <th></th>\n",
       "      <th></th>\n",
       "    </tr>\n",
       "  </thead>\n",
       "  <tbody>\n",
       "    <tr>\n",
       "      <th>9310</th>\n",
       "      <td>1</td>\n",
       "      <td>0</td>\n",
       "      <td>1</td>\n",
       "    </tr>\n",
       "    <tr>\n",
       "      <th>61355</th>\n",
       "      <td>63</td>\n",
       "      <td>0</td>\n",
       "      <td>63</td>\n",
       "    </tr>\n",
       "    <tr>\n",
       "      <th>102236</th>\n",
       "      <td>31</td>\n",
       "      <td>0</td>\n",
       "      <td>31</td>\n",
       "    </tr>\n",
       "    <tr>\n",
       "      <th>129627</th>\n",
       "      <td>5</td>\n",
       "      <td>0</td>\n",
       "      <td>5</td>\n",
       "    </tr>\n",
       "    <tr>\n",
       "      <th>165801</th>\n",
       "      <td>6</td>\n",
       "      <td>0</td>\n",
       "      <td>6</td>\n",
       "    </tr>\n",
       "    <tr>\n",
       "      <th>...</th>\n",
       "      <td>...</td>\n",
       "      <td>...</td>\n",
       "      <td>...</td>\n",
       "    </tr>\n",
       "    <tr>\n",
       "      <th>2999801</th>\n",
       "      <td>6</td>\n",
       "      <td>0</td>\n",
       "      <td>6</td>\n",
       "    </tr>\n",
       "    <tr>\n",
       "      <th>3125735</th>\n",
       "      <td>22</td>\n",
       "      <td>0</td>\n",
       "      <td>22</td>\n",
       "    </tr>\n",
       "    <tr>\n",
       "      <th>3308010</th>\n",
       "      <td>51</td>\n",
       "      <td>0</td>\n",
       "      <td>51</td>\n",
       "    </tr>\n",
       "    <tr>\n",
       "      <th>3347453</th>\n",
       "      <td>7</td>\n",
       "      <td>0</td>\n",
       "      <td>7</td>\n",
       "    </tr>\n",
       "    <tr>\n",
       "      <th>3383594</th>\n",
       "      <td>5</td>\n",
       "      <td>0</td>\n",
       "      <td>5</td>\n",
       "    </tr>\n",
       "  </tbody>\n",
       "</table>\n",
       "<p>70 rows × 3 columns</p>\n",
       "</div>"
      ],
      "text/plain": [
       "          product_id  add_to_cart_order  reordered\n",
       "order_id                                          \n",
       "9310               1                  0          1\n",
       "61355             63                  0         63\n",
       "102236            31                  0         31\n",
       "129627             5                  0          5\n",
       "165801             6                  0          6\n",
       "...              ...                ...        ...\n",
       "2999801            6                  0          6\n",
       "3125735           22                  0         22\n",
       "3308010           51                  0         51\n",
       "3347453            7                  0          7\n",
       "3383594            5                  0          5\n",
       "\n",
       "[70 rows x 3 columns]"
      ]
     },
     "metadata": {},
     "output_type": "display_data"
    }
   ],
   "source": [
    "display(order_products[order_products[\"add_to_cart_order\"].isna()].groupby(\"order_id\").count())"
   ]
  },
  {
   "cell_type": "markdown",
   "id": "t75BD19oaR5f",
   "metadata": {
    "id": "t75BD19oaR5f"
   },
   "source": [
    "## Conclusiones\n",
    "\n",
    "Escribe aquí tus conclusiones intermedias sobre el Paso 1. Descripción de los datos.\n",
    "\n",
    "En el dataframe \"orders\" los días(days_since_prior_order ) están en float, además hay valores ausentes lo que puede significar que el cliente no tiene un pedido anterior o simplemente no se haya registrado bien el dato.\n",
    "\n",
    "En el dataframe \"products\" existe valores ausentes en la columna \"product_name\"\n",
    "\n",
    "En el dataframe \"order_products\" existe valores ausentes en la columna \"add_to_cart_order\", y el tipo de dato es float.\n",
    "\n"
   ]
  },
  {
   "cell_type": "markdown",
   "id": "8RJHqxVmaVsF",
   "metadata": {
    "id": "8RJHqxVmaVsF"
   },
   "source": [
    "# Paso 2. Preprocesamiento de los datos\n",
    "\n",
    "Preprocesa los datos de la siguiente manera:\n",
    "\n",
    "- Verifica y corrige los tipos de datos (por ejemplo, asegúrate de que las columnas de ID sean números enteros).\n",
    "- Identifica y completa los valores ausentes.\n",
    "- Identifica y elimina los valores duplicados.\n",
    "\n",
    "Asegúrate de explicar qué tipos de valores ausentes y duplicados encontraste, cómo los completaste o eliminaste y por qué usaste esos métodos. ¿Por qué crees que estos valores ausentes y duplicados pueden haber estado presentes en el conjunto de datos?"
   ]
  },
  {
   "cell_type": "markdown",
   "id": "p6poABZQaZYb",
   "metadata": {
    "id": "p6poABZQaZYb"
   },
   "source": [
    "## Plan de solución\n",
    "\n",
    "Escribe aquí tu plan para el Paso 2. Preprocesamiento de los datos.\n",
    "\n",
    "Mostraré duplicados y eliminaré los datos, buscaré datos mal registrados y los corregiré.\n",
    "Revisaré valores ausentes y veré si se puede reemplazar con algun dato,o si se debe eliminar o mantener.\n",
    "Evaluaré la conversión de tipo de dato de ser necesario y si no modifica los datos, realizaré el cambio.\n"
   ]
  },
  {
   "cell_type": "markdown",
   "id": "07357848-dc64-4156-9cc3-01ff4365226d",
   "metadata": {
    "id": "07357848-dc64-4156-9cc3-01ff4365226d"
   },
   "source": [
    "## Encuentra y elimina los valores duplicados (y describe cómo tomaste tus decisiones)."
   ]
  },
  {
   "cell_type": "markdown",
   "id": "f179f0a9",
   "metadata": {
    "id": "f179f0a9"
   },
   "source": [
    "### `orders` data frame"
   ]
  },
  {
   "cell_type": "code",
   "execution_count": 9,
   "id": "b99297a5-405a-463d-8535-9adc3da4ad74",
   "metadata": {
    "id": "b99297a5-405a-463d-8535-9adc3da4ad74"
   },
   "outputs": [
    {
     "name": "stdout",
     "output_type": "stream",
     "text": [
      "15\n"
     ]
    },
    {
     "data": {
      "text/html": [
       "<div>\n",
       "<style scoped>\n",
       "    .dataframe tbody tr th:only-of-type {\n",
       "        vertical-align: middle;\n",
       "    }\n",
       "\n",
       "    .dataframe tbody tr th {\n",
       "        vertical-align: top;\n",
       "    }\n",
       "\n",
       "    .dataframe thead th {\n",
       "        text-align: right;\n",
       "    }\n",
       "</style>\n",
       "<table border=\"1\" class=\"dataframe\">\n",
       "  <thead>\n",
       "    <tr style=\"text-align: right;\">\n",
       "      <th></th>\n",
       "      <th>order_id</th>\n",
       "      <th>user_id</th>\n",
       "      <th>order_number</th>\n",
       "      <th>order_dow</th>\n",
       "      <th>order_hour_of_day</th>\n",
       "      <th>days_since_prior_order</th>\n",
       "    </tr>\n",
       "  </thead>\n",
       "  <tbody>\n",
       "    <tr>\n",
       "      <th>145574</th>\n",
       "      <td>794638</td>\n",
       "      <td>50898</td>\n",
       "      <td>24</td>\n",
       "      <td>3</td>\n",
       "      <td>2</td>\n",
       "      <td>2.0</td>\n",
       "    </tr>\n",
       "    <tr>\n",
       "      <th>223105</th>\n",
       "      <td>2160484</td>\n",
       "      <td>107525</td>\n",
       "      <td>16</td>\n",
       "      <td>3</td>\n",
       "      <td>2</td>\n",
       "      <td>30.0</td>\n",
       "    </tr>\n",
       "    <tr>\n",
       "      <th>230807</th>\n",
       "      <td>1918001</td>\n",
       "      <td>188546</td>\n",
       "      <td>14</td>\n",
       "      <td>3</td>\n",
       "      <td>2</td>\n",
       "      <td>16.0</td>\n",
       "    </tr>\n",
       "    <tr>\n",
       "      <th>266232</th>\n",
       "      <td>1782114</td>\n",
       "      <td>106752</td>\n",
       "      <td>1</td>\n",
       "      <td>3</td>\n",
       "      <td>2</td>\n",
       "      <td>NaN</td>\n",
       "    </tr>\n",
       "    <tr>\n",
       "      <th>273805</th>\n",
       "      <td>1112182</td>\n",
       "      <td>202304</td>\n",
       "      <td>84</td>\n",
       "      <td>3</td>\n",
       "      <td>2</td>\n",
       "      <td>6.0</td>\n",
       "    </tr>\n",
       "    <tr>\n",
       "      <th>284038</th>\n",
       "      <td>2845099</td>\n",
       "      <td>31189</td>\n",
       "      <td>11</td>\n",
       "      <td>3</td>\n",
       "      <td>2</td>\n",
       "      <td>7.0</td>\n",
       "    </tr>\n",
       "    <tr>\n",
       "      <th>311713</th>\n",
       "      <td>1021560</td>\n",
       "      <td>53767</td>\n",
       "      <td>3</td>\n",
       "      <td>3</td>\n",
       "      <td>2</td>\n",
       "      <td>9.0</td>\n",
       "    </tr>\n",
       "    <tr>\n",
       "      <th>321100</th>\n",
       "      <td>408114</td>\n",
       "      <td>68324</td>\n",
       "      <td>4</td>\n",
       "      <td>3</td>\n",
       "      <td>2</td>\n",
       "      <td>18.0</td>\n",
       "    </tr>\n",
       "    <tr>\n",
       "      <th>323900</th>\n",
       "      <td>1919531</td>\n",
       "      <td>191501</td>\n",
       "      <td>32</td>\n",
       "      <td>3</td>\n",
       "      <td>2</td>\n",
       "      <td>7.0</td>\n",
       "    </tr>\n",
       "    <tr>\n",
       "      <th>345917</th>\n",
       "      <td>2232988</td>\n",
       "      <td>82565</td>\n",
       "      <td>1</td>\n",
       "      <td>3</td>\n",
       "      <td>2</td>\n",
       "      <td>NaN</td>\n",
       "    </tr>\n",
       "    <tr>\n",
       "      <th>371905</th>\n",
       "      <td>391768</td>\n",
       "      <td>57671</td>\n",
       "      <td>19</td>\n",
       "      <td>3</td>\n",
       "      <td>2</td>\n",
       "      <td>10.0</td>\n",
       "    </tr>\n",
       "    <tr>\n",
       "      <th>394347</th>\n",
       "      <td>467134</td>\n",
       "      <td>63189</td>\n",
       "      <td>21</td>\n",
       "      <td>3</td>\n",
       "      <td>2</td>\n",
       "      <td>2.0</td>\n",
       "    </tr>\n",
       "    <tr>\n",
       "      <th>411408</th>\n",
       "      <td>1286742</td>\n",
       "      <td>183220</td>\n",
       "      <td>48</td>\n",
       "      <td>3</td>\n",
       "      <td>2</td>\n",
       "      <td>4.0</td>\n",
       "    </tr>\n",
       "    <tr>\n",
       "      <th>415163</th>\n",
       "      <td>2282673</td>\n",
       "      <td>86751</td>\n",
       "      <td>49</td>\n",
       "      <td>3</td>\n",
       "      <td>2</td>\n",
       "      <td>2.0</td>\n",
       "    </tr>\n",
       "    <tr>\n",
       "      <th>441599</th>\n",
       "      <td>2125197</td>\n",
       "      <td>14050</td>\n",
       "      <td>48</td>\n",
       "      <td>3</td>\n",
       "      <td>2</td>\n",
       "      <td>3.0</td>\n",
       "    </tr>\n",
       "  </tbody>\n",
       "</table>\n",
       "</div>"
      ],
      "text/plain": [
       "        order_id  user_id  order_number  order_dow  order_hour_of_day  \\\n",
       "145574    794638    50898            24          3                  2   \n",
       "223105   2160484   107525            16          3                  2   \n",
       "230807   1918001   188546            14          3                  2   \n",
       "266232   1782114   106752             1          3                  2   \n",
       "273805   1112182   202304            84          3                  2   \n",
       "284038   2845099    31189            11          3                  2   \n",
       "311713   1021560    53767             3          3                  2   \n",
       "321100    408114    68324             4          3                  2   \n",
       "323900   1919531   191501            32          3                  2   \n",
       "345917   2232988    82565             1          3                  2   \n",
       "371905    391768    57671            19          3                  2   \n",
       "394347    467134    63189            21          3                  2   \n",
       "411408   1286742   183220            48          3                  2   \n",
       "415163   2282673    86751            49          3                  2   \n",
       "441599   2125197    14050            48          3                  2   \n",
       "\n",
       "        days_since_prior_order  \n",
       "145574                     2.0  \n",
       "223105                    30.0  \n",
       "230807                    16.0  \n",
       "266232                     NaN  \n",
       "273805                     6.0  \n",
       "284038                     7.0  \n",
       "311713                     9.0  \n",
       "321100                    18.0  \n",
       "323900                     7.0  \n",
       "345917                     NaN  \n",
       "371905                    10.0  \n",
       "394347                     2.0  \n",
       "411408                     4.0  \n",
       "415163                     2.0  \n",
       "441599                     3.0  "
      ]
     },
     "metadata": {},
     "output_type": "display_data"
    }
   ],
   "source": [
    "# Revisa si hay pedidos duplicados\n",
    "\n",
    "print(orders.duplicated().sum())# calculo y muestro cantidad de duplicados\n",
    "\n",
    "duplicados=orders[orders.duplicated()]\n",
    "\n",
    "display(duplicados)# muestro las filas duplicadas\n",
    "\n"
   ]
  },
  {
   "cell_type": "raw",
   "id": "a18182bd",
   "metadata": {
    "id": "PEkwUX_gvt5A"
   },
   "source": [
    "¿Tienes líneas duplicadas? Si sí, ¿qué tienen en común? order_dow= 3 , order_hour_of_day=2\n",
    "Quizá hubo algún error de sistema en ese horario"
   ]
  },
  {
   "cell_type": "code",
   "execution_count": 10,
   "id": "0d44de5d",
   "metadata": {
    "id": "0d44de5d"
   },
   "outputs": [
    {
     "data": {
      "text/html": [
       "<div>\n",
       "<style scoped>\n",
       "    .dataframe tbody tr th:only-of-type {\n",
       "        vertical-align: middle;\n",
       "    }\n",
       "\n",
       "    .dataframe tbody tr th {\n",
       "        vertical-align: top;\n",
       "    }\n",
       "\n",
       "    .dataframe thead th {\n",
       "        text-align: right;\n",
       "    }\n",
       "</style>\n",
       "<table border=\"1\" class=\"dataframe\">\n",
       "  <thead>\n",
       "    <tr style=\"text-align: right;\">\n",
       "      <th></th>\n",
       "      <th>order_id</th>\n",
       "      <th>user_id</th>\n",
       "      <th>order_number</th>\n",
       "      <th>order_dow</th>\n",
       "      <th>order_hour_of_day</th>\n",
       "      <th>days_since_prior_order</th>\n",
       "    </tr>\n",
       "  </thead>\n",
       "  <tbody>\n",
       "    <tr>\n",
       "      <th>4838</th>\n",
       "      <td>2766110</td>\n",
       "      <td>162084</td>\n",
       "      <td>41</td>\n",
       "      <td>3</td>\n",
       "      <td>2</td>\n",
       "      <td>16.0</td>\n",
       "    </tr>\n",
       "    <tr>\n",
       "      <th>5156</th>\n",
       "      <td>2190225</td>\n",
       "      <td>138285</td>\n",
       "      <td>18</td>\n",
       "      <td>3</td>\n",
       "      <td>2</td>\n",
       "      <td>11.0</td>\n",
       "    </tr>\n",
       "    <tr>\n",
       "      <th>15506</th>\n",
       "      <td>553049</td>\n",
       "      <td>58599</td>\n",
       "      <td>13</td>\n",
       "      <td>3</td>\n",
       "      <td>2</td>\n",
       "      <td>7.0</td>\n",
       "    </tr>\n",
       "    <tr>\n",
       "      <th>18420</th>\n",
       "      <td>382357</td>\n",
       "      <td>120200</td>\n",
       "      <td>19</td>\n",
       "      <td>3</td>\n",
       "      <td>2</td>\n",
       "      <td>11.0</td>\n",
       "    </tr>\n",
       "    <tr>\n",
       "      <th>24691</th>\n",
       "      <td>690242</td>\n",
       "      <td>77357</td>\n",
       "      <td>2</td>\n",
       "      <td>3</td>\n",
       "      <td>2</td>\n",
       "      <td>9.0</td>\n",
       "    </tr>\n",
       "    <tr>\n",
       "      <th>...</th>\n",
       "      <td>...</td>\n",
       "      <td>...</td>\n",
       "      <td>...</td>\n",
       "      <td>...</td>\n",
       "      <td>...</td>\n",
       "      <td>...</td>\n",
       "    </tr>\n",
       "    <tr>\n",
       "      <th>457013</th>\n",
       "      <td>3384021</td>\n",
       "      <td>14881</td>\n",
       "      <td>6</td>\n",
       "      <td>3</td>\n",
       "      <td>2</td>\n",
       "      <td>30.0</td>\n",
       "    </tr>\n",
       "    <tr>\n",
       "      <th>458816</th>\n",
       "      <td>910166</td>\n",
       "      <td>164782</td>\n",
       "      <td>18</td>\n",
       "      <td>3</td>\n",
       "      <td>2</td>\n",
       "      <td>4.0</td>\n",
       "    </tr>\n",
       "    <tr>\n",
       "      <th>459635</th>\n",
       "      <td>1680532</td>\n",
       "      <td>106435</td>\n",
       "      <td>6</td>\n",
       "      <td>3</td>\n",
       "      <td>2</td>\n",
       "      <td>21.0</td>\n",
       "    </tr>\n",
       "    <tr>\n",
       "      <th>468324</th>\n",
       "      <td>222962</td>\n",
       "      <td>54979</td>\n",
       "      <td>59</td>\n",
       "      <td>3</td>\n",
       "      <td>2</td>\n",
       "      <td>3.0</td>\n",
       "    </tr>\n",
       "    <tr>\n",
       "      <th>477526</th>\n",
       "      <td>2592344</td>\n",
       "      <td>46860</td>\n",
       "      <td>38</td>\n",
       "      <td>3</td>\n",
       "      <td>2</td>\n",
       "      <td>3.0</td>\n",
       "    </tr>\n",
       "  </tbody>\n",
       "</table>\n",
       "<p>121 rows × 6 columns</p>\n",
       "</div>"
      ],
      "text/plain": [
       "        order_id  user_id  order_number  order_dow  order_hour_of_day  \\\n",
       "4838     2766110   162084            41          3                  2   \n",
       "5156     2190225   138285            18          3                  2   \n",
       "15506     553049    58599            13          3                  2   \n",
       "18420     382357   120200            19          3                  2   \n",
       "24691     690242    77357             2          3                  2   \n",
       "...          ...      ...           ...        ...                ...   \n",
       "457013   3384021    14881             6          3                  2   \n",
       "458816    910166   164782            18          3                  2   \n",
       "459635   1680532   106435             6          3                  2   \n",
       "468324    222962    54979            59          3                  2   \n",
       "477526   2592344    46860            38          3                  2   \n",
       "\n",
       "        days_since_prior_order  \n",
       "4838                      16.0  \n",
       "5156                      11.0  \n",
       "15506                      7.0  \n",
       "18420                     11.0  \n",
       "24691                      9.0  \n",
       "...                        ...  \n",
       "457013                    30.0  \n",
       "458816                     4.0  \n",
       "459635                    21.0  \n",
       "468324                     3.0  \n",
       "477526                     3.0  \n",
       "\n",
       "[121 rows x 6 columns]"
      ]
     },
     "metadata": {},
     "output_type": "display_data"
    },
    {
     "name": "stdout",
     "output_type": "stream",
     "text": [
      "2125197    2\n",
      "1782114    2\n",
      "1286742    2\n",
      "391768     2\n",
      "1021560    2\n",
      "          ..\n",
      "1273706    1\n",
      "689148     1\n",
      "1752059    1\n",
      "2794488    1\n",
      "2047       1\n",
      "Name: order_id, Length: 478952, dtype: int64\n"
     ]
    }
   ],
   "source": [
    "\n",
    "display(orders[(orders[\"order_hour_of_day\"]==2) & (orders[\"order_dow\"]==3)])# Verifica todos los pedidos que se hicieron el miércoles a las 2:00 a.m.\n",
    "print(orders[\"order_id\"].value_counts()) # contar frecuencia"
   ]
  },
  {
   "cell_type": "markdown",
   "id": "vu2OWyoqwOx5",
   "metadata": {
    "id": "vu2OWyoqwOx5"
   },
   "source": [
    "¿Qué sugiere este resultado?\n",
    "Se registraron 121 filas de pedidos en ese horario y día, sin embargo la frecuencia de  \"order_id\" en muchos casos es mayor a 1, lo cual no es correcto porque cada pedido debería tener un identificador único."
   ]
  },
  {
   "cell_type": "code",
   "execution_count": 11,
   "id": "480563c7",
   "metadata": {
    "id": "480563c7"
   },
   "outputs": [],
   "source": [
    "# Elimina los pedidos duplicados\n",
    "\n",
    "orders = orders.drop_duplicates()"
   ]
  },
  {
   "cell_type": "code",
   "execution_count": 12,
   "id": "0b2396a2",
   "metadata": {
    "id": "0b2396a2"
   },
   "outputs": [
    {
     "name": "stdout",
     "output_type": "stream",
     "text": [
      "0\n"
     ]
    }
   ],
   "source": [
    "# Vuelve a verificar si hay filas duplicadas\n",
    "print(orders.duplicated().sum())"
   ]
  },
  {
   "cell_type": "code",
   "execution_count": 13,
   "id": "f6113ef1",
   "metadata": {
    "id": "f6113ef1"
   },
   "outputs": [
    {
     "name": "stdout",
     "output_type": "stream",
     "text": [
      "0\n"
     ]
    }
   ],
   "source": [
    "# Vuelve a verificar únicamente si hay IDs duplicados de pedidos\n",
    "print(orders[\"order_id\"].duplicated().sum())"
   ]
  },
  {
   "cell_type": "markdown",
   "id": "5e8905ae",
   "metadata": {
    "id": "5e8905ae"
   },
   "source": [
    "Se encontró 15 filas duplicadas se verificó que es información repetida y se eliminó."
   ]
  },
  {
   "cell_type": "markdown",
   "id": "45e6bc46",
   "metadata": {
    "id": "45e6bc46"
   },
   "source": [
    "### `products` data frame"
   ]
  },
  {
   "cell_type": "code",
   "execution_count": 14,
   "id": "5f526b5b-8175-46fa-a0fd-441767d50e64",
   "metadata": {
    "id": "5f526b5b-8175-46fa-a0fd-441767d50e64"
   },
   "outputs": [
    {
     "name": "stdout",
     "output_type": "stream",
     "text": [
      "0\n",
      "Empty DataFrame\n",
      "Columns: [product_id, product_name, aisle_id, department_id]\n",
      "Index: []\n"
     ]
    }
   ],
   "source": [
    "# Verifica si hay filas totalmente duplicadas\n",
    "print(products.duplicated().sum())# calculo y muestro cantidad de duplicados\n",
    "\n",
    "duplicados=products[products.duplicated()]\n",
    "\n",
    "print(duplicados)# muestro las filas duplicadas\n"
   ]
  },
  {
   "cell_type": "code",
   "execution_count": 15,
   "id": "88daa4f4",
   "metadata": {
    "id": "88daa4f4"
   },
   "outputs": [
    {
     "name": "stdout",
     "output_type": "stream",
     "text": [
      "0\n"
     ]
    }
   ],
   "source": [
    "# Verifica únicamente si hay IDs duplicadas de productos\n",
    "print(products[\"product_id\"].duplicated().sum())"
   ]
  },
  {
   "cell_type": "code",
   "execution_count": 16,
   "id": "c773f0bf",
   "metadata": {
    "id": "c773f0bf"
   },
   "outputs": [
    {
     "data": {
      "text/html": [
       "<div>\n",
       "<style scoped>\n",
       "    .dataframe tbody tr th:only-of-type {\n",
       "        vertical-align: middle;\n",
       "    }\n",
       "\n",
       "    .dataframe tbody tr th {\n",
       "        vertical-align: top;\n",
       "    }\n",
       "\n",
       "    .dataframe thead th {\n",
       "        text-align: right;\n",
       "    }\n",
       "</style>\n",
       "<table border=\"1\" class=\"dataframe\">\n",
       "  <thead>\n",
       "    <tr style=\"text-align: right;\">\n",
       "      <th></th>\n",
       "      <th>product_id</th>\n",
       "      <th>product_name</th>\n",
       "      <th>aisle_id</th>\n",
       "      <th>department_id</th>\n",
       "    </tr>\n",
       "  </thead>\n",
       "  <tbody>\n",
       "    <tr>\n",
       "      <th>71</th>\n",
       "      <td>72</td>\n",
       "      <td>NaN</td>\n",
       "      <td>100</td>\n",
       "      <td>21</td>\n",
       "    </tr>\n",
       "    <tr>\n",
       "      <th>109</th>\n",
       "      <td>110</td>\n",
       "      <td>NaN</td>\n",
       "      <td>100</td>\n",
       "      <td>21</td>\n",
       "    </tr>\n",
       "    <tr>\n",
       "      <th>296</th>\n",
       "      <td>297</td>\n",
       "      <td>NaN</td>\n",
       "      <td>100</td>\n",
       "      <td>21</td>\n",
       "    </tr>\n",
       "    <tr>\n",
       "      <th>416</th>\n",
       "      <td>417</td>\n",
       "      <td>NaN</td>\n",
       "      <td>100</td>\n",
       "      <td>21</td>\n",
       "    </tr>\n",
       "    <tr>\n",
       "      <th>436</th>\n",
       "      <td>437</td>\n",
       "      <td>NaN</td>\n",
       "      <td>100</td>\n",
       "      <td>21</td>\n",
       "    </tr>\n",
       "    <tr>\n",
       "      <th>...</th>\n",
       "      <td>...</td>\n",
       "      <td>...</td>\n",
       "      <td>...</td>\n",
       "      <td>...</td>\n",
       "    </tr>\n",
       "    <tr>\n",
       "      <th>49689</th>\n",
       "      <td>49690</td>\n",
       "      <td>HIGH PERFORMANCE ENERGY DRINK</td>\n",
       "      <td>64</td>\n",
       "      <td>7</td>\n",
       "    </tr>\n",
       "    <tr>\n",
       "      <th>49690</th>\n",
       "      <td>49691</td>\n",
       "      <td>ORIGINAL PANCAKE &amp; WAFFLE MIX</td>\n",
       "      <td>130</td>\n",
       "      <td>14</td>\n",
       "    </tr>\n",
       "    <tr>\n",
       "      <th>49691</th>\n",
       "      <td>49692</td>\n",
       "      <td>ORGANIC INSTANT OATMEAL LIGHT MAPLE BROWN SUGAR</td>\n",
       "      <td>130</td>\n",
       "      <td>14</td>\n",
       "    </tr>\n",
       "    <tr>\n",
       "      <th>49692</th>\n",
       "      <td>49693</td>\n",
       "      <td>SPRING WATER BODY WASH</td>\n",
       "      <td>127</td>\n",
       "      <td>11</td>\n",
       "    </tr>\n",
       "    <tr>\n",
       "      <th>49693</th>\n",
       "      <td>49694</td>\n",
       "      <td>BURRITO- STEAK &amp; CHEESE</td>\n",
       "      <td>38</td>\n",
       "      <td>1</td>\n",
       "    </tr>\n",
       "  </tbody>\n",
       "</table>\n",
       "<p>1361 rows × 4 columns</p>\n",
       "</div>"
      ],
      "text/plain": [
       "       product_id                                     product_name  aisle_id  \\\n",
       "71             72                                              NaN       100   \n",
       "109           110                                              NaN       100   \n",
       "296           297                                              NaN       100   \n",
       "416           417                                              NaN       100   \n",
       "436           437                                              NaN       100   \n",
       "...           ...                                              ...       ...   \n",
       "49689       49690                    HIGH PERFORMANCE ENERGY DRINK        64   \n",
       "49690       49691                    ORIGINAL PANCAKE & WAFFLE MIX       130   \n",
       "49691       49692  ORGANIC INSTANT OATMEAL LIGHT MAPLE BROWN SUGAR       130   \n",
       "49692       49693                           SPRING WATER BODY WASH       127   \n",
       "49693       49694                          BURRITO- STEAK & CHEESE        38   \n",
       "\n",
       "       department_id  \n",
       "71                21  \n",
       "109               21  \n",
       "296               21  \n",
       "416               21  \n",
       "436               21  \n",
       "...              ...  \n",
       "49689              7  \n",
       "49690             14  \n",
       "49691             14  \n",
       "49692             11  \n",
       "49693              1  \n",
       "\n",
       "[1361 rows x 4 columns]"
      ]
     },
     "metadata": {},
     "output_type": "display_data"
    }
   ],
   "source": [
    "# Revisa únicamente si hay nombres duplicados de productos (convierte los nombres a letras mayúsculas para compararlos mejor)\n",
    "products[\"product_name\"]= products[\"product_name\"].str.upper()\n",
    "display(products[products[\"product_name\"].duplicated()])"
   ]
  },
  {
   "cell_type": "code",
   "execution_count": 17,
   "id": "01efd02e",
   "metadata": {
    "id": "01efd02e"
   },
   "outputs": [
    {
     "name": "stdout",
     "output_type": "stream",
     "text": [
      "       product_id                                     product_name  aisle_id  \\\n",
      "2058         2059                                  BIOTIN 1000 MCG        47   \n",
      "5455         5456                 GREEN TEA WITH GINSENG AND HONEY        96   \n",
      "5558         5559                           CREAM OF MUSHROOM SOUP        69   \n",
      "7558         7559                        CINNAMON ROLLS WITH ICING       105   \n",
      "9037         9038                           AMERICAN CHEESE SLICES        21   \n",
      "...           ...                                              ...       ...   \n",
      "49689       49690                    HIGH PERFORMANCE ENERGY DRINK        64   \n",
      "49690       49691                    ORIGINAL PANCAKE & WAFFLE MIX       130   \n",
      "49691       49692  ORGANIC INSTANT OATMEAL LIGHT MAPLE BROWN SUGAR       130   \n",
      "49692       49693                           SPRING WATER BODY WASH       127   \n",
      "49693       49694                          BURRITO- STEAK & CHEESE        38   \n",
      "\n",
      "       department_id  \n",
      "2058              11  \n",
      "5455              20  \n",
      "5558              15  \n",
      "7558              13  \n",
      "9037              16  \n",
      "...              ...  \n",
      "49689              7  \n",
      "49690             14  \n",
      "49691             14  \n",
      "49692             11  \n",
      "49693              1  \n",
      "\n",
      "[104 rows x 4 columns]\n"
     ]
    }
   ],
   "source": [
    "# Revisa si hay nombres duplicados de productos no faltantes\n",
    "print(products[products[\"product_name\"].duplicated()].dropna(subset=[\"product_name\"]))\n"
   ]
  },
  {
   "cell_type": "markdown",
   "id": "9da8d293",
   "metadata": {
    "id": "9da8d293"
   },
   "source": [
    "Describe brevemente tus hallazgos y lo que hiciste con ellos.\n",
    "\n",
    "Encontramos que no hay número de id de producto repetido, ni tampoco filas duplicadas. Sin embargo hay productos con mismo nombre y productos sin nombres.\n",
    "\n",
    "Pienso que hubo errores en el registro de los nombres, pero podría bastar reconocer el producto por su id, y no ser necesario borrar la información ausente o repetida en nombre de producto."
   ]
  },
  {
   "cell_type": "markdown",
   "id": "60f30db1",
   "metadata": {
    "id": "60f30db1"
   },
   "source": [
    "### `departments` data frame"
   ]
  },
  {
   "cell_type": "code",
   "execution_count": 18,
   "id": "fb410ad4-0fbf-4b80-bb09-23fdea79afe3",
   "metadata": {
    "id": "fb410ad4-0fbf-4b80-bb09-23fdea79afe3"
   },
   "outputs": [
    {
     "name": "stdout",
     "output_type": "stream",
     "text": [
      "0\n"
     ]
    }
   ],
   "source": [
    "print(departments.duplicated().sum())# Revisa si hay filas totalmente duplicadas"
   ]
  },
  {
   "cell_type": "code",
   "execution_count": 19,
   "id": "332b12bb",
   "metadata": {
    "id": "332b12bb"
   },
   "outputs": [
    {
     "name": "stdout",
     "output_type": "stream",
     "text": [
      "0\n"
     ]
    }
   ],
   "source": [
    "print(departments[\"department_id\"].duplicated().sum())# Revisa únicamente si hay IDs duplicadas de productos"
   ]
  },
  {
   "cell_type": "markdown",
   "id": "bd30d78e",
   "metadata": {
    "id": "bd30d78e"
   },
   "source": [
    "Describe brevemente tus hallazgos y lo que hiciste con ellos.\n",
    "\n",
    "No hay filas duplicadas ni id duplicados."
   ]
  },
  {
   "cell_type": "markdown",
   "id": "889349c1",
   "metadata": {
    "id": "889349c1"
   },
   "source": [
    "### `aisles` data frame"
   ]
  },
  {
   "cell_type": "code",
   "execution_count": 20,
   "id": "9da89fb9-4679-40f5-ad0d-c34df753a3f8",
   "metadata": {
    "id": "9da89fb9-4679-40f5-ad0d-c34df753a3f8"
   },
   "outputs": [
    {
     "name": "stdout",
     "output_type": "stream",
     "text": [
      "0\n"
     ]
    }
   ],
   "source": [
    "print(aisles.duplicated().sum())# Revisa si hay filas totalmente duplicadas"
   ]
  },
  {
   "cell_type": "code",
   "execution_count": 21,
   "id": "da7c2822",
   "metadata": {
    "id": "da7c2822"
   },
   "outputs": [
    {
     "name": "stdout",
     "output_type": "stream",
     "text": [
      "0\n"
     ]
    }
   ],
   "source": [
    "print(aisles[\"aisle_id\"].duplicated().sum())# Revisa únicamente si hay IDs duplicadas de productos"
   ]
  },
  {
   "cell_type": "markdown",
   "id": "ac63826f",
   "metadata": {
    "id": "ac63826f"
   },
   "source": [
    "Describe brevemente tus hallazgos y lo que hiciste con ellos.\n",
    "\n",
    "No hay filas duplicadas ni id duplicados."
   ]
  },
  {
   "cell_type": "markdown",
   "id": "274cd06a",
   "metadata": {
    "id": "274cd06a"
   },
   "source": [
    "### `order_products` data frame"
   ]
  },
  {
   "cell_type": "code",
   "execution_count": 22,
   "id": "52326689-84a8-4b8f-a881-7c68780f62c9",
   "metadata": {
    "id": "52326689-84a8-4b8f-a881-7c68780f62c9"
   },
   "outputs": [
    {
     "name": "stdout",
     "output_type": "stream",
     "text": [
      "0\n"
     ]
    }
   ],
   "source": [
    "print(order_products.duplicated().sum())# Revisa si hay filas totalmente duplicadas\n"
   ]
  },
  {
   "cell_type": "code",
   "execution_count": 23,
   "id": "7b861391",
   "metadata": {
    "id": "7b861391"
   },
   "outputs": [
    {
     "name": "stdout",
     "output_type": "stream",
     "text": [
      "order_id             0.0\n",
      "product_id           0.0\n",
      "add_to_cart_order    0.0\n",
      "reordered            0.0\n",
      "dtype: float64\n"
     ]
    }
   ],
   "source": [
    "duplicados=order_products[[\"product_id\",\"order_id\"]].duplicated()\n",
    "\n",
    "print(order_products[duplicados].sum()) # Vuelve a verificar si hay cualquier otro duplicado engañoso\n"
   ]
  },
  {
   "cell_type": "markdown",
   "id": "0b890492",
   "metadata": {
    "id": "0b890492"
   },
   "source": [
    "Describe brevemente tus hallazgos y lo que hiciste con ellos.\n",
    "\n",
    "No hay filas duplicadas, ni órdenes con productos duplicados."
   ]
  },
  {
   "cell_type": "markdown",
   "id": "1e46de76",
   "metadata": {
    "id": "1e46de76"
   },
   "source": [
    "## Encuentra y elimina los valores ausentes\n",
    "\n",
    "Al trabajar con valores duplicados, pudimos observar que también nos falta investigar valores ausentes:\n",
    "\n",
    "* La columna `'product_name'` de la tabla products.\n",
    "* La columna `'days_since_prior_order'` de la tabla orders.\n",
    "* La columna `'add_to_cart_order'` de la tabla order_productos."
   ]
  },
  {
   "cell_type": "markdown",
   "id": "c0aebd78",
   "metadata": {
    "id": "c0aebd78"
   },
   "source": [
    "### `products` data frame"
   ]
  },
  {
   "cell_type": "code",
   "execution_count": 24,
   "id": "fe4a8b0f",
   "metadata": {
    "id": "fe4a8b0f"
   },
   "outputs": [
    {
     "data": {
      "text/html": [
       "<div>\n",
       "<style scoped>\n",
       "    .dataframe tbody tr th:only-of-type {\n",
       "        vertical-align: middle;\n",
       "    }\n",
       "\n",
       "    .dataframe tbody tr th {\n",
       "        vertical-align: top;\n",
       "    }\n",
       "\n",
       "    .dataframe thead th {\n",
       "        text-align: right;\n",
       "    }\n",
       "</style>\n",
       "<table border=\"1\" class=\"dataframe\">\n",
       "  <thead>\n",
       "    <tr style=\"text-align: right;\">\n",
       "      <th></th>\n",
       "      <th>product_id</th>\n",
       "      <th>product_name</th>\n",
       "      <th>aisle_id</th>\n",
       "      <th>department_id</th>\n",
       "    </tr>\n",
       "  </thead>\n",
       "  <tbody>\n",
       "    <tr>\n",
       "      <th>37</th>\n",
       "      <td>38</td>\n",
       "      <td>NaN</td>\n",
       "      <td>100</td>\n",
       "      <td>21</td>\n",
       "    </tr>\n",
       "    <tr>\n",
       "      <th>71</th>\n",
       "      <td>72</td>\n",
       "      <td>NaN</td>\n",
       "      <td>100</td>\n",
       "      <td>21</td>\n",
       "    </tr>\n",
       "    <tr>\n",
       "      <th>109</th>\n",
       "      <td>110</td>\n",
       "      <td>NaN</td>\n",
       "      <td>100</td>\n",
       "      <td>21</td>\n",
       "    </tr>\n",
       "    <tr>\n",
       "      <th>296</th>\n",
       "      <td>297</td>\n",
       "      <td>NaN</td>\n",
       "      <td>100</td>\n",
       "      <td>21</td>\n",
       "    </tr>\n",
       "    <tr>\n",
       "      <th>416</th>\n",
       "      <td>417</td>\n",
       "      <td>NaN</td>\n",
       "      <td>100</td>\n",
       "      <td>21</td>\n",
       "    </tr>\n",
       "    <tr>\n",
       "      <th>...</th>\n",
       "      <td>...</td>\n",
       "      <td>...</td>\n",
       "      <td>...</td>\n",
       "      <td>...</td>\n",
       "    </tr>\n",
       "    <tr>\n",
       "      <th>49552</th>\n",
       "      <td>49553</td>\n",
       "      <td>NaN</td>\n",
       "      <td>100</td>\n",
       "      <td>21</td>\n",
       "    </tr>\n",
       "    <tr>\n",
       "      <th>49574</th>\n",
       "      <td>49575</td>\n",
       "      <td>NaN</td>\n",
       "      <td>100</td>\n",
       "      <td>21</td>\n",
       "    </tr>\n",
       "    <tr>\n",
       "      <th>49640</th>\n",
       "      <td>49641</td>\n",
       "      <td>NaN</td>\n",
       "      <td>100</td>\n",
       "      <td>21</td>\n",
       "    </tr>\n",
       "    <tr>\n",
       "      <th>49663</th>\n",
       "      <td>49664</td>\n",
       "      <td>NaN</td>\n",
       "      <td>100</td>\n",
       "      <td>21</td>\n",
       "    </tr>\n",
       "    <tr>\n",
       "      <th>49668</th>\n",
       "      <td>49669</td>\n",
       "      <td>NaN</td>\n",
       "      <td>100</td>\n",
       "      <td>21</td>\n",
       "    </tr>\n",
       "  </tbody>\n",
       "</table>\n",
       "<p>1258 rows × 4 columns</p>\n",
       "</div>"
      ],
      "text/plain": [
       "       product_id product_name  aisle_id  department_id\n",
       "37             38          NaN       100             21\n",
       "71             72          NaN       100             21\n",
       "109           110          NaN       100             21\n",
       "296           297          NaN       100             21\n",
       "416           417          NaN       100             21\n",
       "...           ...          ...       ...            ...\n",
       "49552       49553          NaN       100             21\n",
       "49574       49575          NaN       100             21\n",
       "49640       49641          NaN       100             21\n",
       "49663       49664          NaN       100             21\n",
       "49668       49669          NaN       100             21\n",
       "\n",
       "[1258 rows x 4 columns]"
      ]
     },
     "execution_count": 24,
     "metadata": {},
     "output_type": "execute_result"
    }
   ],
   "source": [
    "products[products[\"product_name\"].isna()] # Encuentra los valores ausentes en la columna 'product_name'\n"
   ]
  },
  {
   "cell_type": "code",
   "execution_count": 25,
   "id": "2cc72f47",
   "metadata": {},
   "outputs": [
    {
     "data": {
      "text/plain": [
       "1"
      ]
     },
     "execution_count": 25,
     "metadata": {},
     "output_type": "execute_result"
    }
   ],
   "source": [
    "products[\"aisle_id\"][products[\"product_name\"].isna()].nunique() \n"
   ]
  },
  {
   "cell_type": "code",
   "execution_count": 26,
   "id": "e599d921",
   "metadata": {},
   "outputs": [
    {
     "data": {
      "text/plain": [
       "1"
      ]
     },
     "execution_count": 26,
     "metadata": {},
     "output_type": "execute_result"
    }
   ],
   "source": [
    "products[\"department_id\"][products[\"product_name\"].isna()].nunique() "
   ]
  },
  {
   "cell_type": "markdown",
   "id": "-A6x1AbJhjkp",
   "metadata": {
    "id": "-A6x1AbJhjkp"
   },
   "source": [
    "Describe brevemente cuáles son tus hallazgos.\n",
    "Todos los productos con nombre de productos ausentes son de \"aisle_id\"=100 y \"department_id\"=21"
   ]
  },
  {
   "cell_type": "code",
   "execution_count": 27,
   "id": "e96167bc",
   "metadata": {
    "id": "e96167bc"
   },
   "outputs": [],
   "source": [
    "#  ¿Todos los nombres de productos ausentes están relacionados con el pasillo con ID 10\n",
    "#si"
   ]
  },
  {
   "cell_type": "code",
   "execution_count": 28,
   "id": "8fd0a541",
   "metadata": {
    "id": "8fd0a541"
   },
   "outputs": [],
   "source": [
    "# ¿Todos los nombres de productos ausentes están relacionados con el departamento con ID 21?\n",
    "#si"
   ]
  },
  {
   "cell_type": "code",
   "execution_count": 29,
   "id": "325c3464",
   "metadata": {
    "id": "325c3464"
   },
   "outputs": [
    {
     "data": {
      "text/html": [
       "<div>\n",
       "<style scoped>\n",
       "    .dataframe tbody tr th:only-of-type {\n",
       "        vertical-align: middle;\n",
       "    }\n",
       "\n",
       "    .dataframe tbody tr th {\n",
       "        vertical-align: top;\n",
       "    }\n",
       "\n",
       "    .dataframe thead th {\n",
       "        text-align: right;\n",
       "    }\n",
       "</style>\n",
       "<table border=\"1\" class=\"dataframe\">\n",
       "  <thead>\n",
       "    <tr style=\"text-align: right;\">\n",
       "      <th></th>\n",
       "      <th>department_id</th>\n",
       "      <th>department</th>\n",
       "    </tr>\n",
       "  </thead>\n",
       "  <tbody>\n",
       "  </tbody>\n",
       "</table>\n",
       "</div>"
      ],
      "text/plain": [
       "Empty DataFrame\n",
       "Columns: [department_id, department]\n",
       "Index: []"
      ]
     },
     "execution_count": 29,
     "metadata": {},
     "output_type": "execute_result"
    }
   ],
   "source": [
    "# Usa las tablas department y aisle para revisar los datos del pasillo con ID 100 y el departamento con ID 21.\n",
    "\n",
    "departments[departments[\"department_id\"]==100]"
   ]
  },
  {
   "cell_type": "code",
   "execution_count": 30,
   "id": "8f1e72b2",
   "metadata": {},
   "outputs": [
    {
     "data": {
      "text/html": [
       "<div>\n",
       "<style scoped>\n",
       "    .dataframe tbody tr th:only-of-type {\n",
       "        vertical-align: middle;\n",
       "    }\n",
       "\n",
       "    .dataframe tbody tr th {\n",
       "        vertical-align: top;\n",
       "    }\n",
       "\n",
       "    .dataframe thead th {\n",
       "        text-align: right;\n",
       "    }\n",
       "</style>\n",
       "<table border=\"1\" class=\"dataframe\">\n",
       "  <thead>\n",
       "    <tr style=\"text-align: right;\">\n",
       "      <th></th>\n",
       "      <th>aisle_id</th>\n",
       "      <th>aisle</th>\n",
       "    </tr>\n",
       "  </thead>\n",
       "  <tbody>\n",
       "    <tr>\n",
       "      <th>20</th>\n",
       "      <td>21</td>\n",
       "      <td>packaged cheese</td>\n",
       "    </tr>\n",
       "  </tbody>\n",
       "</table>\n",
       "</div>"
      ],
      "text/plain": [
       "    aisle_id            aisle\n",
       "20        21  packaged cheese"
      ]
     },
     "execution_count": 30,
     "metadata": {},
     "output_type": "execute_result"
    }
   ],
   "source": [
    "aisles[aisles[\"aisle_id\"]==21]"
   ]
  },
  {
   "cell_type": "markdown",
   "id": "nqhSTUPhhvEJ",
   "metadata": {
    "id": "nqhSTUPhhvEJ"
   },
   "source": [
    "Describe brevemente cuáles son tus hallazgos.\n",
    "No hay registro de department_id =100, sin embargo si existe aisle_id=21"
   ]
  },
  {
   "cell_type": "code",
   "execution_count": 31,
   "id": "6b295120",
   "metadata": {
    "id": "6b295120"
   },
   "outputs": [
    {
     "name": "stdout",
     "output_type": "stream",
     "text": [
      "<class 'pandas.core.frame.DataFrame'>\n",
      "RangeIndex: 49694 entries, 0 to 49693\n",
      "Data columns (total 4 columns):\n",
      " #   Column         Non-Null Count  Dtype \n",
      "---  ------         --------------  ----- \n",
      " 0   product_id     49694 non-null  int64 \n",
      " 1   product_name   49694 non-null  object\n",
      " 2   aisle_id       49694 non-null  int64 \n",
      " 3   department_id  49694 non-null  int64 \n",
      "dtypes: int64(3), object(1)\n",
      "memory usage: 1.5+ MB\n"
     ]
    }
   ],
   "source": [
    "# Completa los nombres de productos ausentes con 'Unknown'\n",
    "products[\"product_name\"] = products[\"product_name\"].fillna(\"Unknown\")\n",
    "products.info()\n"
   ]
  },
  {
   "cell_type": "markdown",
   "id": "fc70e5ad",
   "metadata": {
    "id": "fc70e5ad"
   },
   "source": [
    "Describe brevemente tus hallazgos y lo que hiciste con ellos.\n",
    "\n",
    "Existía valores ausentes en la columna \"product_name2, reemplazamos estos valores por \"Unknown\""
   ]
  },
  {
   "cell_type": "markdown",
   "id": "7eb45c86",
   "metadata": {
    "id": "7eb45c86"
   },
   "source": [
    "### `orders` data frame"
   ]
  },
  {
   "cell_type": "code",
   "execution_count": 32,
   "id": "93e41d96",
   "metadata": {
    "id": "93e41d96"
   },
   "outputs": [
    {
     "name": "stdout",
     "output_type": "stream",
     "text": [
      "<class 'pandas.core.frame.DataFrame'>\n",
      "Int64Index: 478952 entries, 0 to 478966\n",
      "Data columns (total 6 columns):\n",
      " #   Column                  Non-Null Count   Dtype  \n",
      "---  ------                  --------------   -----  \n",
      " 0   order_id                478952 non-null  int64  \n",
      " 1   user_id                 478952 non-null  int64  \n",
      " 2   order_number            478952 non-null  int64  \n",
      " 3   order_dow               478952 non-null  int64  \n",
      " 4   order_hour_of_day       478952 non-null  int64  \n",
      " 5   days_since_prior_order  450135 non-null  float64\n",
      "dtypes: float64(1), int64(5)\n",
      "memory usage: 25.6 MB\n",
      "order_id                      0\n",
      "user_id                       0\n",
      "order_number                  0\n",
      "order_dow                     0\n",
      "order_hour_of_day             0\n",
      "days_since_prior_order    28817\n",
      "dtype: int64\n"
     ]
    }
   ],
   "source": [
    " # Encuentra los valores ausentes\n",
    "orders.info()\n",
    "print(orders.isnull().sum())"
   ]
  },
  {
   "cell_type": "code",
   "execution_count": 33,
   "id": "166e5a86",
   "metadata": {
    "id": "166e5a86"
   },
   "outputs": [],
   "source": [
    "# ¿Hay algún valor ausente que no sea el primer pedido del cliente?\n",
    "#no hay\n"
   ]
  },
  {
   "cell_type": "code",
   "execution_count": 34,
   "id": "23b8aa10",
   "metadata": {},
   "outputs": [
    {
     "name": "stdout",
     "output_type": "stream",
     "text": [
      "<class 'pandas.core.frame.DataFrame'>\n",
      "Int64Index: 450135 entries, 0 to 478966\n",
      "Data columns (total 6 columns):\n",
      " #   Column                  Non-Null Count   Dtype  \n",
      "---  ------                  --------------   -----  \n",
      " 0   order_id                450135 non-null  int64  \n",
      " 1   user_id                 450135 non-null  int64  \n",
      " 2   order_number            450135 non-null  int64  \n",
      " 3   order_dow               450135 non-null  int64  \n",
      " 4   order_hour_of_day       450135 non-null  int64  \n",
      " 5   days_since_prior_order  450135 non-null  float64\n",
      "dtypes: float64(1), int64(5)\n",
      "memory usage: 24.0 MB\n"
     ]
    }
   ],
   "source": [
    "orders[orders[\"order_number\"]>=2].info()"
   ]
  },
  {
   "cell_type": "markdown",
   "id": "4e23d089",
   "metadata": {
    "id": "4e23d089"
   },
   "source": [
    "Describe brevemente tus hallazgos y lo que hiciste con ellos.\n",
    "\n",
    "Hay valores ausentes en \"days_since_prior_order\", lo que puede significar que aun no hay una segunda venta.\n",
    "\n",
    "\n",
    "\n"
   ]
  },
  {
   "cell_type": "markdown",
   "id": "69dc9ca4",
   "metadata": {
    "id": "69dc9ca4"
   },
   "source": [
    "### `order_products` data frame"
   ]
  },
  {
   "cell_type": "code",
   "execution_count": 35,
   "id": "b8240253",
   "metadata": {
    "id": "b8240253"
   },
   "outputs": [
    {
     "name": "stdout",
     "output_type": "stream",
     "text": [
      "order_id               0\n",
      "product_id             0\n",
      "add_to_cart_order    836\n",
      "reordered              0\n",
      "dtype: int64\n"
     ]
    }
   ],
   "source": [
    "# Encuentra los valores ausentes\n",
    "\n",
    "print(order_products.isnull().sum())"
   ]
  },
  {
   "cell_type": "code",
   "execution_count": 36,
   "id": "9a78e5ee",
   "metadata": {
    "id": "9a78e5ee"
   },
   "outputs": [
    {
     "name": "stdout",
     "output_type": "stream",
     "text": [
      "El valos mínimo es 1.0 y el valor máximo es 64.0\n"
     ]
    }
   ],
   "source": [
    "# ¿Cuáles son los valores mínimos y máximos en esta columna?\n",
    "minimo= order_products[\"add_to_cart_order\"].min()\n",
    "maximo= order_products[\"add_to_cart_order\"].max()\n",
    "\n",
    "print(f\"El valos mínimo es {minimo} y el valor máximo es {maximo}\")"
   ]
  },
  {
   "cell_type": "markdown",
   "id": "-Z2Ja215jW78",
   "metadata": {
    "id": "-Z2Ja215jW78"
   },
   "source": [
    "No en todos los pedidos se registró el orden en que se añadían los productos al carrito de compras."
   ]
  },
  {
   "cell_type": "code",
   "execution_count": 37,
   "id": "ab9d0c2b",
   "metadata": {
    "id": "ab9d0c2b"
   },
   "outputs": [
    {
     "data": {
      "text/html": [
       "<div>\n",
       "<style scoped>\n",
       "    .dataframe tbody tr th:only-of-type {\n",
       "        vertical-align: middle;\n",
       "    }\n",
       "\n",
       "    .dataframe tbody tr th {\n",
       "        vertical-align: top;\n",
       "    }\n",
       "\n",
       "    .dataframe thead th {\n",
       "        text-align: right;\n",
       "    }\n",
       "</style>\n",
       "<table border=\"1\" class=\"dataframe\">\n",
       "  <thead>\n",
       "    <tr style=\"text-align: right;\">\n",
       "      <th></th>\n",
       "      <th>order_id</th>\n",
       "      <th>product_id</th>\n",
       "      <th>add_to_cart_order</th>\n",
       "      <th>reordered</th>\n",
       "    </tr>\n",
       "  </thead>\n",
       "  <tbody>\n",
       "    <tr>\n",
       "      <th>737</th>\n",
       "      <td>2449164</td>\n",
       "      <td>5068</td>\n",
       "      <td>NaN</td>\n",
       "      <td>0</td>\n",
       "    </tr>\n",
       "    <tr>\n",
       "      <th>9926</th>\n",
       "      <td>1968313</td>\n",
       "      <td>43867</td>\n",
       "      <td>NaN</td>\n",
       "      <td>0</td>\n",
       "    </tr>\n",
       "    <tr>\n",
       "      <th>14394</th>\n",
       "      <td>2926893</td>\n",
       "      <td>11688</td>\n",
       "      <td>NaN</td>\n",
       "      <td>0</td>\n",
       "    </tr>\n",
       "    <tr>\n",
       "      <th>16418</th>\n",
       "      <td>1717990</td>\n",
       "      <td>4142</td>\n",
       "      <td>NaN</td>\n",
       "      <td>0</td>\n",
       "    </tr>\n",
       "    <tr>\n",
       "      <th>30114</th>\n",
       "      <td>1959075</td>\n",
       "      <td>42828</td>\n",
       "      <td>NaN</td>\n",
       "      <td>1</td>\n",
       "    </tr>\n",
       "    <tr>\n",
       "      <th>...</th>\n",
       "      <td>...</td>\n",
       "      <td>...</td>\n",
       "      <td>...</td>\n",
       "      <td>...</td>\n",
       "    </tr>\n",
       "    <tr>\n",
       "      <th>4505662</th>\n",
       "      <td>1800005</td>\n",
       "      <td>7411</td>\n",
       "      <td>NaN</td>\n",
       "      <td>0</td>\n",
       "    </tr>\n",
       "    <tr>\n",
       "      <th>4511400</th>\n",
       "      <td>1633337</td>\n",
       "      <td>260</td>\n",
       "      <td>NaN</td>\n",
       "      <td>0</td>\n",
       "    </tr>\n",
       "    <tr>\n",
       "      <th>4517562</th>\n",
       "      <td>404157</td>\n",
       "      <td>9517</td>\n",
       "      <td>NaN</td>\n",
       "      <td>0</td>\n",
       "    </tr>\n",
       "    <tr>\n",
       "      <th>4534112</th>\n",
       "      <td>1673227</td>\n",
       "      <td>17835</td>\n",
       "      <td>NaN</td>\n",
       "      <td>0</td>\n",
       "    </tr>\n",
       "    <tr>\n",
       "      <th>4535739</th>\n",
       "      <td>1832957</td>\n",
       "      <td>17949</td>\n",
       "      <td>NaN</td>\n",
       "      <td>1</td>\n",
       "    </tr>\n",
       "  </tbody>\n",
       "</table>\n",
       "<p>836 rows × 4 columns</p>\n",
       "</div>"
      ],
      "text/plain": [
       "         order_id  product_id  add_to_cart_order  reordered\n",
       "737       2449164        5068                NaN          0\n",
       "9926      1968313       43867                NaN          0\n",
       "14394     2926893       11688                NaN          0\n",
       "16418     1717990        4142                NaN          0\n",
       "30114     1959075       42828                NaN          1\n",
       "...           ...         ...                ...        ...\n",
       "4505662   1800005        7411                NaN          0\n",
       "4511400   1633337         260                NaN          0\n",
       "4517562    404157        9517                NaN          0\n",
       "4534112   1673227       17835                NaN          0\n",
       "4535739   1832957       17949                NaN          1\n",
       "\n",
       "[836 rows x 4 columns]"
      ]
     },
     "metadata": {},
     "output_type": "display_data"
    }
   ],
   "source": [
    "# Guarda todas las IDs de pedidos que tengan un valor ausente en 'add_to_cart_order'\n",
    "\n",
    "ausentes_add= order_products[order_products[\"add_to_cart_order\"].isna()]\n",
    "display(ausentes_add)\n"
   ]
  },
  {
   "cell_type": "code",
   "execution_count": 38,
   "id": "54c31695",
   "metadata": {
    "id": "54c31695"
   },
   "outputs": [
    {
     "data": {
      "text/html": [
       "<div>\n",
       "<style scoped>\n",
       "    .dataframe tbody tr th:only-of-type {\n",
       "        vertical-align: middle;\n",
       "    }\n",
       "\n",
       "    .dataframe tbody tr th {\n",
       "        vertical-align: top;\n",
       "    }\n",
       "\n",
       "    .dataframe thead th {\n",
       "        text-align: right;\n",
       "    }\n",
       "</style>\n",
       "<table border=\"1\" class=\"dataframe\">\n",
       "  <thead>\n",
       "    <tr style=\"text-align: right;\">\n",
       "      <th></th>\n",
       "      <th>product_id</th>\n",
       "      <th>add_to_cart_order</th>\n",
       "      <th>reordered</th>\n",
       "    </tr>\n",
       "    <tr>\n",
       "      <th>order_id</th>\n",
       "      <th></th>\n",
       "      <th></th>\n",
       "      <th></th>\n",
       "    </tr>\n",
       "  </thead>\n",
       "  <tbody>\n",
       "    <tr>\n",
       "      <th>9310</th>\n",
       "      <td>1</td>\n",
       "      <td>0</td>\n",
       "      <td>1</td>\n",
       "    </tr>\n",
       "    <tr>\n",
       "      <th>61355</th>\n",
       "      <td>63</td>\n",
       "      <td>0</td>\n",
       "      <td>63</td>\n",
       "    </tr>\n",
       "    <tr>\n",
       "      <th>102236</th>\n",
       "      <td>31</td>\n",
       "      <td>0</td>\n",
       "      <td>31</td>\n",
       "    </tr>\n",
       "    <tr>\n",
       "      <th>129627</th>\n",
       "      <td>5</td>\n",
       "      <td>0</td>\n",
       "      <td>5</td>\n",
       "    </tr>\n",
       "    <tr>\n",
       "      <th>165801</th>\n",
       "      <td>6</td>\n",
       "      <td>0</td>\n",
       "      <td>6</td>\n",
       "    </tr>\n",
       "    <tr>\n",
       "      <th>...</th>\n",
       "      <td>...</td>\n",
       "      <td>...</td>\n",
       "      <td>...</td>\n",
       "    </tr>\n",
       "    <tr>\n",
       "      <th>2999801</th>\n",
       "      <td>6</td>\n",
       "      <td>0</td>\n",
       "      <td>6</td>\n",
       "    </tr>\n",
       "    <tr>\n",
       "      <th>3125735</th>\n",
       "      <td>22</td>\n",
       "      <td>0</td>\n",
       "      <td>22</td>\n",
       "    </tr>\n",
       "    <tr>\n",
       "      <th>3308010</th>\n",
       "      <td>51</td>\n",
       "      <td>0</td>\n",
       "      <td>51</td>\n",
       "    </tr>\n",
       "    <tr>\n",
       "      <th>3347453</th>\n",
       "      <td>7</td>\n",
       "      <td>0</td>\n",
       "      <td>7</td>\n",
       "    </tr>\n",
       "    <tr>\n",
       "      <th>3383594</th>\n",
       "      <td>5</td>\n",
       "      <td>0</td>\n",
       "      <td>5</td>\n",
       "    </tr>\n",
       "  </tbody>\n",
       "</table>\n",
       "<p>70 rows × 3 columns</p>\n",
       "</div>"
      ],
      "text/plain": [
       "          product_id  add_to_cart_order  reordered\n",
       "order_id                                          \n",
       "9310               1                  0          1\n",
       "61355             63                  0         63\n",
       "102236            31                  0         31\n",
       "129627             5                  0          5\n",
       "165801             6                  0          6\n",
       "...              ...                ...        ...\n",
       "2999801            6                  0          6\n",
       "3125735           22                  0         22\n",
       "3308010           51                  0         51\n",
       "3347453            7                  0          7\n",
       "3383594            5                  0          5\n",
       "\n",
       "[70 rows x 3 columns]"
      ]
     },
     "metadata": {},
     "output_type": "display_data"
    },
    {
     "name": "stdout",
     "output_type": "stream",
     "text": [
      "product_id           1\n",
      "add_to_cart_order    0\n",
      "reordered            1\n",
      "dtype: int64\n"
     ]
    }
   ],
   "source": [
    "# ¿Todos los pedidos con valores ausentes tienen más de 64 productos?\n",
    "# Agrupa todos los pedidos con datos ausentes por su ID de pedido.\n",
    "\n",
    "display(ausentes_add.groupby(\"order_id\").count())\n",
    "\n",
    "# Cuenta el número de 'product_id' en cada pedido y revisa el valor mínimo del conteo.\n",
    "\n",
    "print(ausentes_add.groupby(\"order_id\").count().min()) # valores mínimos de la columna"
   ]
  },
  {
   "cell_type": "markdown",
   "id": "p9V6pddtjglj",
   "metadata": {
    "id": "p9V6pddtjglj"
   },
   "source": [
    "Describe brevemente cuáles son tus hallazgos.\n",
    "\n",
    "Los valores de la columna \"add_to_cart\" se muestra como 0\n"
   ]
  },
  {
   "cell_type": "code",
   "execution_count": 39,
   "id": "7a987d08",
   "metadata": {
    "id": "7a987d08"
   },
   "outputs": [
    {
     "name": "stdout",
     "output_type": "stream",
     "text": [
      "<class 'pandas.core.frame.DataFrame'>\n",
      "RangeIndex: 4545007 entries, 0 to 4545006\n",
      "Data columns (total 4 columns):\n",
      " #   Column             Dtype\n",
      "---  ------             -----\n",
      " 0   order_id           int64\n",
      " 1   product_id         int64\n",
      " 2   add_to_cart_order  int64\n",
      " 3   reordered          int64\n",
      "dtypes: int64(4)\n",
      "memory usage: 138.7 MB\n"
     ]
    }
   ],
   "source": [
    "# Remplaza los valores ausentes en la columna 'add_to_cart? con 999 y convierte la columna al tipo entero.\n",
    "order_products[\"add_to_cart_order\"] = order_products[\"add_to_cart_order\"].fillna(999)\n",
    "order_products[\"add_to_cart_order\"]=order_products[\"add_to_cart_order\"].astype(int)\n",
    "\n",
    "order_products.info()"
   ]
  },
  {
   "cell_type": "markdown",
   "id": "fea4bcc7",
   "metadata": {
    "id": "fea4bcc7"
   },
   "source": [
    "Se reemplazó los valores ausentes por 999 y se cambió el tipo de dato entero"
   ]
  },
  {
   "cell_type": "markdown",
   "id": "RnplPFY1gSrb",
   "metadata": {
    "id": "RnplPFY1gSrb"
   },
   "source": [
    "## Conclusiones\n",
    "\n",
    "Se realizó la limpieza de datos duplicado y ausentes, asi como el cambio de tipo de dato según se requería necesario. "
   ]
  },
  {
   "cell_type": "markdown",
   "id": "UjrOIwTcz3ri",
   "metadata": {
    "id": "UjrOIwTcz3ri"
   },
   "source": [
    "# Paso 3. Análisis de los datos\n",
    "\n",
    "Una vez los datos estén procesados y listos, haz el siguiente análisis:"
   ]
  },
  {
   "cell_type": "markdown",
   "id": "turkish-kidney",
   "metadata": {
    "id": "turkish-kidney"
   },
   "source": [
    "\n",
    "1. Verifica que los valores en las columnas `'order_hour_of_day'` y `'order_dow'` en la tabla orders sean razonables (es decir, `'order_hour_of_day'` oscile entre 0 y 23 y `'order_dow'` oscile entre 0 y 6).\n",
    "2. Crea un gráfico que muestre el número de personas que hacen pedidos dependiendo de la hora del día.\n",
    "3. Crea un gráfico que muestre qué día de la semana la gente hace sus compras.\n",
    "4. Crea un gráfico que muestre el tiempo que la gente espera hasta hacer su siguiente pedido, y comenta sobre los valores mínimos y máximos."
   ]
  },
  {
   "cell_type": "markdown",
   "id": "short-capability",
   "metadata": {
    "id": "short-capability"
   },
   "source": [
    "### [A1] Verifica que los valores sean sensibles"
   ]
  },
  {
   "cell_type": "code",
   "execution_count": 40,
   "id": "growing-fruit",
   "metadata": {
    "id": "growing-fruit"
   },
   "outputs": [
    {
     "name": "stdout",
     "output_type": "stream",
     "text": [
      "el valor mínimo de la columna order_hour_of_day es 0\n",
      "el valor máximo de la columna order_hour_of_day es 23\n",
      "el valor mínimo de la columna order_dow es 0\n",
      "el valor máximo de la columna oorder_dow es 23\n"
     ]
    }
   ],
   "source": [
    "min_orderday= orders[\"order_hour_of_day\"].min()\n",
    "max_orderday= orders[\"order_hour_of_day\"].max()\n",
    "print(f\"el valor mínimo de la columna order_hour_of_day es {min_orderday}\") # el valor mínimo de la columna\n",
    "print(f\"el valor máximo de la columna order_hour_of_day es {max_orderday}\") # el valor máximo de la columna\n",
    "\n",
    "\n",
    "min_orderw= orders[\"order_hour_of_day\"].min()\n",
    "max_orderw= orders[\"order_hour_of_day\"].max()\n",
    "\n",
    "print(f\"el valor mínimo de la columna order_dow es {min_orderw}\") # el valor mínimo de la columna\n",
    "print(f\"el valor máximo de la columna oorder_dow es {max_orderw}\") # el valor máximo de la columna"
   ]
  },
  {
   "cell_type": "markdown",
   "id": "hmR2GNQ6lCsX",
   "metadata": {
    "id": "hmR2GNQ6lCsX"
   },
   "source": [
    "Los valores oscilan dentro del rango correcto."
   ]
  },
  {
   "cell_type": "markdown",
   "id": "a6743a70",
   "metadata": {
    "id": "a6743a70"
   },
   "source": [
    "### [A2] Para cada hora del día, ¿cuántas personas hacen órdenes?"
   ]
  },
  {
   "cell_type": "code",
   "execution_count": 41,
   "id": "accessory-malaysia",
   "metadata": {
    "id": "accessory-malaysia"
   },
   "outputs": [
    {
     "data": {
      "image/png": "[encoded data removed]",
      "text/plain": [
       "<Figure size 432x288 with 1 Axes>"
      ]
     },
     "metadata": {
      "needs_background": "light"
     },
     "output_type": "display_data"
    }
   ],
   "source": [
    "\n",
    "\n",
    "df = orders.groupby(\"order_hour_of_day\")[\"order_id\"].count() # agrupando por hora del día y cuenta las órdenes correspondientes\n",
    "df.plot(x=\"order_hour_of_day\",y=\"order_id\",title=\"Número de pedidos por horario\", xlabel=\"Hora del día\",ylabel=\" Número de órdenes\",grid=True)\n",
    "plt.show()"
   ]
  },
  {
   "cell_type": "markdown",
   "id": "11270eed",
   "metadata": {
    "id": "11270eed"
   },
   "source": [
    "La mayor demanda de órdenes se dan entre las 10:00 am y 3:00 pm"
   ]
  },
  {
   "cell_type": "markdown",
   "id": "documented-command",
   "metadata": {
    "id": "documented-command"
   },
   "source": [
    "### [A3] ¿Qué día de la semana compran víveres las personas?"
   ]
  },
  {
   "cell_type": "code",
   "execution_count": 42,
   "id": "chief-digit",
   "metadata": {
    "id": "chief-digit"
   },
   "outputs": [
    {
     "data": {
      "image/png": "[encoded data removed]",
      "text/plain": [
       "<Figure size 432x288 with 1 Axes>"
      ]
     },
     "metadata": {
      "needs_background": "light"
     },
     "output_type": "display_data"
    }
   ],
   "source": [
    "\n",
    "\n",
    "df = orders.groupby(\"order_dow\")[\"order_id\"].count() # agrupando por hora del día y cuenta las órdenes correspondientes\n",
    "df.plot(x=\"order_dow\",y=\"order_id\",title=\"Compras semanales\",xlabel=\"día de la semana\", ylabel=\" Número de órdenes\",grid=True)\n",
    "plt.show()\n"
   ]
  },
  {
   "cell_type": "markdown",
   "id": "dominant-lightning",
   "metadata": {
    "id": "dominant-lightning"
   },
   "source": [
    "Los días de mayor demanda de órdenes son los domingos y lunes."
   ]
  },
  {
   "cell_type": "markdown",
   "id": "cutting-concert",
   "metadata": {
    "id": "cutting-concert"
   },
   "source": [
    "### [A4] ¿Cuánto tiempo esperan las personas hasta hacer otro pedido? Comenta sobre los valores mínimos y máximos."
   ]
  },
  {
   "cell_type": "code",
   "execution_count": 43,
   "id": "c231f523",
   "metadata": {
    "id": "c231f523"
   },
   "outputs": [
    {
     "data": {
      "image/png": "[encoded data removed]",
      "text/plain": [
       "<Figure size 432x288 with 1 Axes>"
      ]
     },
     "metadata": {
      "needs_background": "light"
     },
     "output_type": "display_data"
    }
   ],
   "source": [
    "do=orders.groupby(\"days_since_prior_order\")[\"order_id\"].count()\n",
    "do.plot(x=\"days_since_prior_order\",y=\"order_id\",title=\"Incidencia de compra\",xlabel=\"días desde el primer pedido\", ylabel=\"Número de órdenes\",grid=True)\n",
    "plt.show()"
   ]
  },
  {
   "cell_type": "markdown",
   "id": "discrete-vertex",
   "metadata": {
    "id": "discrete-vertex"
   },
   "source": [
    "La mayoría vuelve a comprar en  5 a 7 días aproximadamente, o luego de 30 días."
   ]
  },
  {
   "cell_type": "markdown",
   "id": "tight-staff",
   "metadata": {
    "id": "tight-staff"
   },
   "source": [
    "\n",
    "\n",
    "1. ¿Existe alguna diferencia entre las distribuciones `'order_hour_of_day'` de los miércoles y los sábados? Traza gráficos de barra de `'order_hour_of_day'` para ambos días en la misma figura y describe las diferencias que observes.\n",
    "2. Grafica la distribución para el número de órdenes que hacen los clientes (es decir, cuántos clientes hicieron solo 1 pedido, cuántos hicieron 2, cuántos 3, y así sucesivamente...).\n",
    "3. ¿Cuáles son los 20 principales productos que se piden con más frecuencia (muestra su identificación y nombre)?"
   ]
  },
  {
   "cell_type": "markdown",
   "id": "packed-classic",
   "metadata": {
    "id": "packed-classic"
   },
   "source": [
    "### [B1] Diferencia entre miércoles y sábados para  `'order_hour_of_day'`. Traza gráficos de barra para los dos días y describe las diferencias que veas."
   ]
  },
  {
   "cell_type": "code",
   "execution_count": 44,
   "id": "d89b8403",
   "metadata": {
    "id": "d89b8403"
   },
   "outputs": [
    {
     "data": {
      "image/png": "[encoded data removed]",
      "text/plain": [
       "<Figure size 432x288 with 1 Axes>"
      ]
     },
     "metadata": {
      "needs_background": "light"
     },
     "output_type": "display_data"
    }
   ],
   "source": [
    "ordes_mie = orders[\"order_hour_of_day\"][orders[\"order_dow\"]==3]# filtrando los días miércoles y sábados\n",
    "ordes_sab = orders[\"order_hour_of_day\"][orders[\"order_dow\"]==6]# filtrando los días miércoles y sábados\n",
    "\n",
    "ordes_mie.plot(y=\"order_hour_of_day\",kind=\"hist\")\n",
    "\n",
    "ordes_sab.plot(y=\"order_hour_of_day\",kind=\"hist\")\n",
    "\n",
    "plt.xlabel('Hora del día')\n",
    "plt.ylabel('Número de pedidos')\n",
    "plt.legend()\n",
    "plt.show() "
   ]
  },
  {
   "cell_type": "markdown",
   "id": "charitable-congo",
   "metadata": {
    "id": "charitable-congo"
   },
   "source": [
    "Tienes distribuciones similares, los pedidos que ingresan los miércoles y sábados tienen demanda similiar en horas determinadas."
   ]
  },
  {
   "cell_type": "markdown",
   "id": "e3891143",
   "metadata": {
    "id": "e3891143"
   },
   "source": [
    "### [B2] ¿Cuál es la distribución para el número de pedidos por cliente?"
   ]
  },
  {
   "cell_type": "code",
   "execution_count": 45,
   "id": "d8c26c23",
   "metadata": {
    "id": "d8c26c23"
   },
   "outputs": [
    {
     "name": "stdout",
     "output_type": "stream",
     "text": [
      "order_number\n",
      "1      28817\n",
      "2      28633\n",
      "3      28685\n",
      "4      28703\n",
      "5      25661\n",
      "       ...  \n",
      "96       220\n",
      "97       221\n",
      "98       191\n",
      "99       169\n",
      "100      194\n",
      "Name: user_id, Length: 100, dtype: int64\n"
     ]
    }
   ],
   "source": [
    "pedidos_cliente=orders.groupby(\"order_number\")[\"user_id\"].count()\n",
    "print(pedidos_cliente)"
   ]
  },
  {
   "cell_type": "code",
   "execution_count": 46,
   "id": "00e69a66",
   "metadata": {
    "id": "00e69a66"
   },
   "outputs": [
    {
     "data": {
      "image/png": "[encoded data removed]",
      "text/plain": [
       "<Figure size 432x288 with 1 Axes>"
      ]
     },
     "metadata": {
      "needs_background": "light"
     },
     "output_type": "display_data"
    }
   ],
   "source": [
    "pedidos_cliente.plot(title=\"Número de pedidos por cliente\",xlim=[1, 100],xlabel=\"Número de pedidos\",ylabel=\"Número de cliente\")\n",
    "plt.show()"
   ]
  },
  {
   "cell_type": "markdown",
   "id": "d2eff7d5",
   "metadata": {
    "id": "d2eff7d5"
   },
   "source": [
    "La distribución es un j invertida, cerca a 30000 clientes hicieron un pedido."
   ]
  },
  {
   "cell_type": "markdown",
   "id": "54a0319c",
   "metadata": {
    "id": "54a0319c"
   },
   "source": [
    "### [B3] ¿Cuáles son los 20 productos más populares (muestra su ID y nombre)?"
   ]
  },
  {
   "cell_type": "code",
   "execution_count": 47,
   "id": "a8a19595",
   "metadata": {},
   "outputs": [
    {
     "name": "stdout",
     "output_type": "stream",
     "text": [
      "    product_id  order_id\n",
      "0        24852     66050\n",
      "1        13176     53297\n",
      "2        21137     37039\n",
      "3        21903     33971\n",
      "4        47209     29773\n",
      "5        47766     24689\n",
      "6        47626     21495\n",
      "7        16797     20018\n",
      "8        26209     19690\n",
      "9        27845     19600\n",
      "10       27966     19197\n",
      "11       22935     15898\n",
      "12       24964     15292\n",
      "13       45007     14584\n",
      "14       39275     13879\n",
      "15       49683     13675\n",
      "16       28204     12544\n",
      "17        5876     12232\n",
      "18        8277     11993\n",
      "19       40706     11781\n"
     ]
    }
   ],
   "source": [
    "productos_mas = order_products.groupby(\"product_id\").count()[\"order_id\"] #agrupamos por id de product y contamos las ventas\n",
    "\n",
    "productos_mas = productos_mas.sort_values(ascending=False) #ordenando valores\n",
    "productos_mas =productos_mas.iloc[0:20].reset_index() # filtrando los 20 más populares\n",
    "\n",
    "print(productos_mas)"
   ]
  },
  {
   "cell_type": "code",
   "execution_count": 48,
   "id": "exterior-arizona",
   "metadata": {
    "id": "exterior-arizona",
    "scrolled": true
   },
   "outputs": [
    {
     "name": "stdout",
     "output_type": "stream",
     "text": [
      "    product_id              product_name  order_id\n",
      "0        24852                    BANANA     66050\n",
      "1        13176    BAG OF ORGANIC BANANAS     53297\n",
      "2        21137      ORGANIC STRAWBERRIES     37039\n",
      "3        21903      ORGANIC BABY SPINACH     33971\n",
      "4        47209      ORGANIC HASS AVOCADO     29773\n",
      "5        47766           ORGANIC AVOCADO     24689\n",
      "6        47626               LARGE LEMON     21495\n",
      "7        16797              STRAWBERRIES     20018\n",
      "8        26209                     LIMES     19690\n",
      "9        27845        ORGANIC WHOLE MILK     19600\n",
      "10       27966       ORGANIC RASPBERRIES     19197\n",
      "11       22935      ORGANIC YELLOW ONION     15898\n",
      "12       24964            ORGANIC GARLIC     15292\n",
      "13       45007          ORGANIC ZUCCHINI     14584\n",
      "14       39275       ORGANIC BLUEBERRIES     13879\n",
      "15       49683            CUCUMBER KIRBY     13675\n",
      "16       28204        ORGANIC FUJI APPLE     12544\n",
      "17        5876             ORGANIC LEMON     12232\n",
      "18        8277  APPLE HONEYCRISP ORGANIC     11993\n",
      "19       40706    ORGANIC GRAPE TOMATOES     11781\n"
     ]
    }
   ],
   "source": [
    "\n",
    "\n",
    "\n",
    "df= productos_mas.merge(products, on='product_id', how='left') # uniendo dataframes\n",
    "print(df[[\"product_id\",\"product_name\",\"order_id\"]]) # mostrando ID y nombre\n",
    "\n"
   ]
  },
  {
   "cell_type": "markdown",
   "id": "7df00f47",
   "metadata": {
    "id": "7df00f47"
   },
   "source": [
    "Dentro de los productos más solicitados están los productos orgánicos"
   ]
  },
  {
   "cell_type": "markdown",
   "id": "gross-theme",
   "metadata": {
    "id": "gross-theme"
   },
   "source": [
    "\n",
    "\n",
    "1. ¿Cuántos artículos suelen comprar las personas en un pedido? ¿Cómo es la distribución?\n",
    "2. ¿Cuáles son los 20 principales artículos que vuelven a pedirse con mayor frecuencia (muestra sus nombres e IDs de los productos)?\n",
    "3. Para cada producto, ¿cuál es la tasa de repetición del pedido (número de repeticiones de pedido/total de pedidos?\n",
    "4. Para cada cliente, ¿qué proporción de los productos que pidió ya los había pedido? Calcula la tasa de repetición de pedido para cada usuario en lugar de para cada producto.\n",
    "5. ¿Cuáles son los 20 principales artículos que la gente pone primero en sus carritos (muestra las IDs de los productos, sus nombres, y el número de veces en que fueron el primer artículo en añadirse al carrito)?"
   ]
  },
  {
   "cell_type": "markdown",
   "id": "romantic-deposit",
   "metadata": {
    "id": "romantic-deposit"
   },
   "source": [
    "### [C1] ¿Cuántos artículos compran normalmente las personas en un pedido? ¿Cómo es la distribución?"
   ]
  },
  {
   "cell_type": "code",
   "execution_count": 49,
   "id": "virtual-punch",
   "metadata": {
    "id": "virtual-punch"
   },
   "outputs": [
    {
     "name": "stdout",
     "output_type": "stream",
     "text": [
      "order_id\n",
      "4          13\n",
      "9          15\n",
      "11          5\n",
      "19          3\n",
      "20          8\n",
      "           ..\n",
      "3421034    17\n",
      "3421053     9\n",
      "3421071     5\n",
      "3421077     4\n",
      "3421079     1\n",
      "Name: product_id, Length: 450046, dtype: int64\n"
     ]
    }
   ],
   "source": [
    "art_ped=order_products.groupby(\"order_id\").count()[\"product_id\"]#agrupando por artículo\n",
    "print(art_ped)"
   ]
  },
  {
   "cell_type": "code",
   "execution_count": 50,
   "id": "completed-frank",
   "metadata": {
    "id": "completed-frank"
   },
   "outputs": [
    {
     "name": "stdout",
     "output_type": "stream",
     "text": [
      "        order_id  product_id\n",
      "0              4          13\n",
      "1              9          15\n",
      "2             11           5\n",
      "3             19           3\n",
      "4             20           8\n",
      "...          ...         ...\n",
      "450041   3421034          17\n",
      "450042   3421053           9\n",
      "450043   3421071           5\n",
      "450044   3421077           4\n",
      "450045   3421079           1\n",
      "\n",
      "[450046 rows x 2 columns]\n"
     ]
    }
   ],
   "source": [
    "art_ped = art_ped.reset_index()\n",
    "print(art_ped)"
   ]
  },
  {
   "cell_type": "code",
   "execution_count": 51,
   "id": "92ec7b69",
   "metadata": {},
   "outputs": [
    {
     "data": {
      "text/plain": [
       "(array([3.35653e+05, 9.70320e+04, 1.47150e+04, 2.28100e+03, 2.90000e+02,\n",
       "        5.40000e+01, 1.00000e+01, 7.00000e+00, 2.00000e+00, 2.00000e+00]),\n",
       " array([  1. ,  13.6,  26.2,  38.8,  51.4,  64. ,  76.6,  89.2, 101.8,\n",
       "        114.4, 127. ]),\n",
       " <BarContainer object of 10 artists>)"
      ]
     },
     "execution_count": 51,
     "metadata": {},
     "output_type": "execute_result"
    },
    {
     "data": {
      "image/png": "[encoded data removed]",
      "text/plain": [
       "<Figure size 432x288 with 1 Axes>"
      ]
     },
     "metadata": {
      "needs_background": "light"
     },
     "output_type": "display_data"
    }
   ],
   "source": [
    "plt.hist(art_ped[\"product_id\"],color='orange',alpha=0.7,bins=10)\n"
   ]
  },
  {
   "cell_type": "code",
   "execution_count": 52,
   "id": "sensitive-breathing",
   "metadata": {
    "id": "sensitive-breathing"
   },
   "outputs": [
    {
     "data": {
      "text/plain": [
       "10.098983215049127"
      ]
     },
     "execution_count": 52,
     "metadata": {},
     "output_type": "execute_result"
    }
   ],
   "source": [
    "order_products.groupby(\"order_id\").count()[\"product_id\"].mean()"
   ]
  },
  {
   "cell_type": "markdown",
   "id": "designed-mortality",
   "metadata": {
    "id": "designed-mortality"
   },
   "source": [
    " La mayoría de los clientes compran entre 1 y 45 artículos por orden\n",
    "El máximo árticulos fue de 127."
   ]
  },
  {
   "cell_type": "markdown",
   "id": "5e6b5537",
   "metadata": {
    "id": "5e6b5537"
   },
   "source": [
    "### [C2] ¿Cuáles son los 20 principales artículos que vuelven a pedirse con mayor frecuencia (muestra sus nombres e IDs de los productos)?"
   ]
  },
  {
   "cell_type": "code",
   "execution_count": 53,
   "id": "9374e55a",
   "metadata": {
    "id": "9374e55a"
   },
   "outputs": [
    {
     "name": "stdout",
     "output_type": "stream",
     "text": [
      "    product_id  reordered\n",
      "0        24852      55763\n",
      "1        13176      44450\n",
      "2        21137      28639\n",
      "3        21903      26233\n",
      "4        47209      23629\n",
      "5        47766      18743\n",
      "6        27845      16251\n",
      "7        47626      15044\n",
      "8        27966      14748\n",
      "9        16797      13945\n",
      "10       26209      13327\n",
      "11       22935      11145\n",
      "12       24964      10411\n",
      "13       45007      10076\n",
      "14       49683       9538\n",
      "15       28204       8989\n",
      "16        8277       8836\n",
      "17       39275       8799\n",
      "18        5876       8412\n",
      "19       49235       8389\n"
     ]
    }
   ],
   "source": [
    "df=order_products.groupby(\"product_id\")[\"reordered\"].sum()\n",
    "\n",
    "df=df.sort_values(ascending=False) #ordenando valores\n",
    "df=df.iloc[0:20].reset_index()\n",
    "print(df)"
   ]
  },
  {
   "cell_type": "code",
   "execution_count": 54,
   "id": "possible-change",
   "metadata": {
    "id": "possible-change",
    "scrolled": true
   },
   "outputs": [
    {
     "name": "stdout",
     "output_type": "stream",
     "text": [
      "product_id    5876\n",
      "reordered     8389\n",
      "dtype: int64\n",
      "product_id    49683\n",
      "reordered     55763\n",
      "dtype: int64\n"
     ]
    }
   ],
   "source": [
    "print(df.min())\n",
    "print(df.max())"
   ]
  },
  {
   "cell_type": "code",
   "execution_count": 55,
   "id": "48dd3658",
   "metadata": {
    "id": "48dd3658"
   },
   "outputs": [
    {
     "name": "stdout",
     "output_type": "stream",
     "text": [
      "                product_name  reordered\n",
      "0                     BANANA      55763\n",
      "1     BAG OF ORGANIC BANANAS      44450\n",
      "2       ORGANIC STRAWBERRIES      28639\n",
      "3       ORGANIC BABY SPINACH      26233\n",
      "4       ORGANIC HASS AVOCADO      23629\n",
      "5            ORGANIC AVOCADO      18743\n",
      "6         ORGANIC WHOLE MILK      16251\n",
      "7                LARGE LEMON      15044\n",
      "8        ORGANIC RASPBERRIES      14748\n",
      "9               STRAWBERRIES      13945\n",
      "10                     LIMES      13327\n",
      "11      ORGANIC YELLOW ONION      11145\n",
      "12            ORGANIC GARLIC      10411\n",
      "13          ORGANIC ZUCCHINI      10076\n",
      "14            CUCUMBER KIRBY       9538\n",
      "15        ORGANIC FUJI APPLE       8989\n",
      "16  APPLE HONEYCRISP ORGANIC       8836\n",
      "17       ORGANIC BLUEBERRIES       8799\n",
      "18             ORGANIC LEMON       8412\n",
      "19       ORGANIC HALF & HALF       8389\n"
     ]
    }
   ],
   "source": [
    "df= df.merge(products, on='product_id', how='left') # uniendo dataframes\n",
    "print(df[[\"product_name\",\"reordered\"]]) # mostrando ID y nombre"
   ]
  },
  {
   "cell_type": "code",
   "execution_count": 56,
   "id": "8e90657e",
   "metadata": {},
   "outputs": [
    {
     "data": {
      "text/plain": [
       "<BarContainer object of 20 artists>"
      ]
     },
     "execution_count": 56,
     "metadata": {},
     "output_type": "execute_result"
    },
    {
     "data": {
      "image/png": "[encoded data removed]",
      "text/plain": [
       "<Figure size 432x288 with 1 Axes>"
      ]
     },
     "metadata": {
      "needs_background": "light"
     },
     "output_type": "display_data"
    }
   ],
   "source": [
    "plt.barh(df[\"product_name\"],df[\"reordered\"])"
   ]
  },
  {
   "cell_type": "markdown",
   "id": "80e70c74",
   "metadata": {
    "id": "80e70c74"
   },
   "source": [
    "El artículo que fue más veces ordenado es Banana"
   ]
  },
  {
   "cell_type": "markdown",
   "id": "9d312b14",
   "metadata": {
    "id": "9d312b14"
   },
   "source": [
    "### [C3] Para cada producto, ¿cuál es la proporción de las veces que se pide y que se vuelve a pedir?"
   ]
  },
  {
   "cell_type": "code",
   "execution_count": 57,
   "id": "6af48ed4",
   "metadata": {
    "id": "8ae9f4b1"
   },
   "outputs": [
    {
     "data": {
      "text/html": [
       "<div>\n",
       "<style scoped>\n",
       "    .dataframe tbody tr th:only-of-type {\n",
       "        vertical-align: middle;\n",
       "    }\n",
       "\n",
       "    .dataframe tbody tr th {\n",
       "        vertical-align: top;\n",
       "    }\n",
       "\n",
       "    .dataframe thead th {\n",
       "        text-align: right;\n",
       "    }\n",
       "</style>\n",
       "<table border=\"1\" class=\"dataframe\">\n",
       "  <thead>\n",
       "    <tr style=\"text-align: right;\">\n",
       "      <th></th>\n",
       "      <th>product_id</th>\n",
       "      <th>reordered</th>\n",
       "      <th>order_id</th>\n",
       "      <th>proporcion</th>\n",
       "    </tr>\n",
       "  </thead>\n",
       "  <tbody>\n",
       "    <tr>\n",
       "      <th>0</th>\n",
       "      <td>1</td>\n",
       "      <td>158</td>\n",
       "      <td>280</td>\n",
       "      <td>0.564286</td>\n",
       "    </tr>\n",
       "    <tr>\n",
       "      <th>1</th>\n",
       "      <td>2</td>\n",
       "      <td>0</td>\n",
       "      <td>11</td>\n",
       "      <td>0.000000</td>\n",
       "    </tr>\n",
       "    <tr>\n",
       "      <th>2</th>\n",
       "      <td>3</td>\n",
       "      <td>31</td>\n",
       "      <td>42</td>\n",
       "      <td>0.738095</td>\n",
       "    </tr>\n",
       "    <tr>\n",
       "      <th>3</th>\n",
       "      <td>4</td>\n",
       "      <td>25</td>\n",
       "      <td>49</td>\n",
       "      <td>0.510204</td>\n",
       "    </tr>\n",
       "    <tr>\n",
       "      <th>4</th>\n",
       "      <td>7</td>\n",
       "      <td>1</td>\n",
       "      <td>2</td>\n",
       "      <td>0.500000</td>\n",
       "    </tr>\n",
       "    <tr>\n",
       "      <th>...</th>\n",
       "      <td>...</td>\n",
       "      <td>...</td>\n",
       "      <td>...</td>\n",
       "      <td>...</td>\n",
       "    </tr>\n",
       "    <tr>\n",
       "      <th>45568</th>\n",
       "      <td>49690</td>\n",
       "      <td>4</td>\n",
       "      <td>5</td>\n",
       "      <td>0.800000</td>\n",
       "    </tr>\n",
       "    <tr>\n",
       "      <th>45569</th>\n",
       "      <td>49691</td>\n",
       "      <td>31</td>\n",
       "      <td>72</td>\n",
       "      <td>0.430556</td>\n",
       "    </tr>\n",
       "    <tr>\n",
       "      <th>45570</th>\n",
       "      <td>49692</td>\n",
       "      <td>5</td>\n",
       "      <td>12</td>\n",
       "      <td>0.416667</td>\n",
       "    </tr>\n",
       "    <tr>\n",
       "      <th>45571</th>\n",
       "      <td>49693</td>\n",
       "      <td>11</td>\n",
       "      <td>25</td>\n",
       "      <td>0.440000</td>\n",
       "    </tr>\n",
       "    <tr>\n",
       "      <th>45572</th>\n",
       "      <td>49694</td>\n",
       "      <td>3</td>\n",
       "      <td>9</td>\n",
       "      <td>0.333333</td>\n",
       "    </tr>\n",
       "  </tbody>\n",
       "</table>\n",
       "<p>45573 rows × 4 columns</p>\n",
       "</div>"
      ],
      "text/plain": [
       "       product_id  reordered  order_id  proporcion\n",
       "0               1        158       280    0.564286\n",
       "1               2          0        11    0.000000\n",
       "2               3         31        42    0.738095\n",
       "3               4         25        49    0.510204\n",
       "4               7          1         2    0.500000\n",
       "...           ...        ...       ...         ...\n",
       "45568       49690          4         5    0.800000\n",
       "45569       49691         31        72    0.430556\n",
       "45570       49692          5        12    0.416667\n",
       "45571       49693         11        25    0.440000\n",
       "45572       49694          3         9    0.333333\n",
       "\n",
       "[45573 rows x 4 columns]"
      ]
     },
     "metadata": {},
     "output_type": "display_data"
    }
   ],
   "source": [
    "prod_reor=order_products.groupby(\"product_id\")[\"reordered\"].sum().reset_index() # productos reordenados\n",
    "total_pro=order_products.groupby(\"product_id\")[\"order_id\"].count().reset_index() #productos totales\n",
    "\n",
    "\n",
    "pro_reordered=prod_reor.merge(total_pro,on='product_id', how='left') # unión de dataframes\n",
    "\n",
    "def proporcion(row):  # función para cálculo de proporción\n",
    "    if row['order_id'] == 0:\n",
    "        return 0  # Manejar división por cero\n",
    "    return row['reordered'] / row['order_id']\n",
    " \n",
    "pro_reordered[\"proporcion\"]=pro_reordered.apply(proporcion, axis=1) # aplicando función en columna\n",
    "\n",
    "display(pro_reordered)"
   ]
  },
  {
   "cell_type": "code",
   "execution_count": 58,
   "id": "5b75581a",
   "metadata": {},
   "outputs": [
    {
     "data": {
      "text/plain": [
       "0.38670677893645"
      ]
     },
     "execution_count": 58,
     "metadata": {},
     "output_type": "execute_result"
    }
   ],
   "source": [
    "pro_reordered[\"proporcion\"].mean() # promedio"
   ]
  },
  {
   "cell_type": "code",
   "execution_count": 59,
   "id": "b6af5a9e",
   "metadata": {},
   "outputs": [],
   "source": [
    "pro_reordered=pro_reordered.merge(products, on='product_id', how='left') # uniendo dataframe para extraer nombre del producto"
   ]
  },
  {
   "cell_type": "code",
   "execution_count": 60,
   "id": "f8cc864f",
   "metadata": {},
   "outputs": [
    {
     "data": {
      "text/html": [
       "<div>\n",
       "<style scoped>\n",
       "    .dataframe tbody tr th:only-of-type {\n",
       "        vertical-align: middle;\n",
       "    }\n",
       "\n",
       "    .dataframe tbody tr th {\n",
       "        vertical-align: top;\n",
       "    }\n",
       "\n",
       "    .dataframe thead th {\n",
       "        text-align: right;\n",
       "    }\n",
       "</style>\n",
       "<table border=\"1\" class=\"dataframe\">\n",
       "  <thead>\n",
       "    <tr style=\"text-align: right;\">\n",
       "      <th></th>\n",
       "      <th>product_id</th>\n",
       "      <th>product_name</th>\n",
       "      <th>proporcion</th>\n",
       "    </tr>\n",
       "  </thead>\n",
       "  <tbody>\n",
       "    <tr>\n",
       "      <th>0</th>\n",
       "      <td>1</td>\n",
       "      <td>CHOCOLATE SANDWICH COOKIES</td>\n",
       "      <td>0.564286</td>\n",
       "    </tr>\n",
       "    <tr>\n",
       "      <th>1</th>\n",
       "      <td>2</td>\n",
       "      <td>ALL-SEASONS SALT</td>\n",
       "      <td>0.000000</td>\n",
       "    </tr>\n",
       "    <tr>\n",
       "      <th>2</th>\n",
       "      <td>3</td>\n",
       "      <td>ROBUST GOLDEN UNSWEETENED OOLONG TEA</td>\n",
       "      <td>0.738095</td>\n",
       "    </tr>\n",
       "    <tr>\n",
       "      <th>3</th>\n",
       "      <td>4</td>\n",
       "      <td>SMART ONES CLASSIC FAVORITES MINI RIGATONI WIT...</td>\n",
       "      <td>0.510204</td>\n",
       "    </tr>\n",
       "    <tr>\n",
       "      <th>4</th>\n",
       "      <td>7</td>\n",
       "      <td>PURE COCONUT WATER WITH ORANGE</td>\n",
       "      <td>0.500000</td>\n",
       "    </tr>\n",
       "    <tr>\n",
       "      <th>...</th>\n",
       "      <td>...</td>\n",
       "      <td>...</td>\n",
       "      <td>...</td>\n",
       "    </tr>\n",
       "    <tr>\n",
       "      <th>45568</th>\n",
       "      <td>49690</td>\n",
       "      <td>HIGH PERFORMANCE ENERGY DRINK</td>\n",
       "      <td>0.800000</td>\n",
       "    </tr>\n",
       "    <tr>\n",
       "      <th>45569</th>\n",
       "      <td>49691</td>\n",
       "      <td>ORIGINAL PANCAKE &amp; WAFFLE MIX</td>\n",
       "      <td>0.430556</td>\n",
       "    </tr>\n",
       "    <tr>\n",
       "      <th>45570</th>\n",
       "      <td>49692</td>\n",
       "      <td>ORGANIC INSTANT OATMEAL LIGHT MAPLE BROWN SUGAR</td>\n",
       "      <td>0.416667</td>\n",
       "    </tr>\n",
       "    <tr>\n",
       "      <th>45571</th>\n",
       "      <td>49693</td>\n",
       "      <td>SPRING WATER BODY WASH</td>\n",
       "      <td>0.440000</td>\n",
       "    </tr>\n",
       "    <tr>\n",
       "      <th>45572</th>\n",
       "      <td>49694</td>\n",
       "      <td>BURRITO- STEAK &amp; CHEESE</td>\n",
       "      <td>0.333333</td>\n",
       "    </tr>\n",
       "  </tbody>\n",
       "</table>\n",
       "<p>45573 rows × 3 columns</p>\n",
       "</div>"
      ],
      "text/plain": [
       "       product_id                                       product_name  \\\n",
       "0               1                         CHOCOLATE SANDWICH COOKIES   \n",
       "1               2                                   ALL-SEASONS SALT   \n",
       "2               3               ROBUST GOLDEN UNSWEETENED OOLONG TEA   \n",
       "3               4  SMART ONES CLASSIC FAVORITES MINI RIGATONI WIT...   \n",
       "4               7                     PURE COCONUT WATER WITH ORANGE   \n",
       "...           ...                                                ...   \n",
       "45568       49690                      HIGH PERFORMANCE ENERGY DRINK   \n",
       "45569       49691                      ORIGINAL PANCAKE & WAFFLE MIX   \n",
       "45570       49692    ORGANIC INSTANT OATMEAL LIGHT MAPLE BROWN SUGAR   \n",
       "45571       49693                             SPRING WATER BODY WASH   \n",
       "45572       49694                            BURRITO- STEAK & CHEESE   \n",
       "\n",
       "       proporcion  \n",
       "0        0.564286  \n",
       "1        0.000000  \n",
       "2        0.738095  \n",
       "3        0.510204  \n",
       "4        0.500000  \n",
       "...           ...  \n",
       "45568    0.800000  \n",
       "45569    0.430556  \n",
       "45570    0.416667  \n",
       "45571    0.440000  \n",
       "45572    0.333333  \n",
       "\n",
       "[45573 rows x 3 columns]"
      ]
     },
     "metadata": {},
     "output_type": "display_data"
    }
   ],
   "source": [
    "display(pro_reordered.loc[:,['product_id',\"product_name\",\"proporcion\"]])"
   ]
  },
  {
   "cell_type": "markdown",
   "id": "I10dEIAyldcO",
   "metadata": {
    "id": "I10dEIAyldcO"
   },
   "source": [
    "En promedio los productos tienen un 38% de reorden."
   ]
  },
  {
   "cell_type": "markdown",
   "id": "subject-boxing",
   "metadata": {
    "id": "subject-boxing"
   },
   "source": [
    "### [C4] Para cada cliente, ¿qué proporción de sus productos ya los había pedido?"
   ]
  },
  {
   "cell_type": "code",
   "execution_count": 61,
   "id": "medical-couple",
   "metadata": {
    "id": "medical-couple",
    "scrolled": true
   },
   "outputs": [
    {
     "name": "stdout",
     "output_type": "stream",
     "text": [
      "         order_id  product_id  reordered  user_id\n",
      "0         2141543       11440          0    58454\n",
      "1          567889        1560          1   129474\n",
      "2         2261212       26683          1    47476\n",
      "3          491251        8670          1   134505\n",
      "4         2571142        1940          1   155995\n",
      "...           ...         ...        ...      ...\n",
      "4545002    577211       15290          1    76414\n",
      "4545003   1219554       21914          0   163902\n",
      "4545004    692640       47766          1      597\n",
      "4545005    319435         691          1     7124\n",
      "4545006   1398151       28733          0    85144\n",
      "\n",
      "[4545007 rows x 4 columns]\n"
     ]
    }
   ],
   "source": [
    "\n",
    "usuarios=orders.loc[:,[\"user_id\",\"order_id\"]] # extrayendo columnas de usuarios\n",
    "ordenes=order_products.loc[:,[\"order_id\",\"product_id\",\"reordered\"]] # extrayendo columnas de ordenes\n",
    "\n",
    "ordenes=ordenes.merge(usuarios,on=\"order_id\", how='left') # uniendo usuarios con productos\n",
    "print(ordenes)"
   ]
  },
  {
   "cell_type": "code",
   "execution_count": 62,
   "id": "8892e4b4",
   "metadata": {
    "id": "8892e4b4"
   },
   "outputs": [
    {
     "data": {
      "text/html": [
       "<div>\n",
       "<style scoped>\n",
       "    .dataframe tbody tr th:only-of-type {\n",
       "        vertical-align: middle;\n",
       "    }\n",
       "\n",
       "    .dataframe tbody tr th {\n",
       "        vertical-align: top;\n",
       "    }\n",
       "\n",
       "    .dataframe thead th {\n",
       "        text-align: right;\n",
       "    }\n",
       "</style>\n",
       "<table border=\"1\" class=\"dataframe\">\n",
       "  <thead>\n",
       "    <tr style=\"text-align: right;\">\n",
       "      <th></th>\n",
       "      <th>user_id</th>\n",
       "      <th>reordered</th>\n",
       "      <th>product_id</th>\n",
       "    </tr>\n",
       "  </thead>\n",
       "  <tbody>\n",
       "    <tr>\n",
       "      <th>0</th>\n",
       "      <td>2</td>\n",
       "      <td>1</td>\n",
       "      <td>26</td>\n",
       "    </tr>\n",
       "    <tr>\n",
       "      <th>1</th>\n",
       "      <td>4</td>\n",
       "      <td>0</td>\n",
       "      <td>2</td>\n",
       "    </tr>\n",
       "    <tr>\n",
       "      <th>2</th>\n",
       "      <td>5</td>\n",
       "      <td>8</td>\n",
       "      <td>12</td>\n",
       "    </tr>\n",
       "    <tr>\n",
       "      <th>3</th>\n",
       "      <td>6</td>\n",
       "      <td>0</td>\n",
       "      <td>4</td>\n",
       "    </tr>\n",
       "    <tr>\n",
       "      <th>4</th>\n",
       "      <td>7</td>\n",
       "      <td>13</td>\n",
       "      <td>14</td>\n",
       "    </tr>\n",
       "    <tr>\n",
       "      <th>...</th>\n",
       "      <td>...</td>\n",
       "      <td>...</td>\n",
       "      <td>...</td>\n",
       "    </tr>\n",
       "    <tr>\n",
       "      <th>149621</th>\n",
       "      <td>206203</td>\n",
       "      <td>6</td>\n",
       "      <td>27</td>\n",
       "    </tr>\n",
       "    <tr>\n",
       "      <th>149622</th>\n",
       "      <td>206206</td>\n",
       "      <td>15</td>\n",
       "      <td>21</td>\n",
       "    </tr>\n",
       "    <tr>\n",
       "      <th>149623</th>\n",
       "      <td>206207</td>\n",
       "      <td>41</td>\n",
       "      <td>46</td>\n",
       "    </tr>\n",
       "    <tr>\n",
       "      <th>149624</th>\n",
       "      <td>206208</td>\n",
       "      <td>87</td>\n",
       "      <td>125</td>\n",
       "    </tr>\n",
       "    <tr>\n",
       "      <th>149625</th>\n",
       "      <td>206209</td>\n",
       "      <td>8</td>\n",
       "      <td>25</td>\n",
       "    </tr>\n",
       "  </tbody>\n",
       "</table>\n",
       "<p>149626 rows × 3 columns</p>\n",
       "</div>"
      ],
      "text/plain": [
       "        user_id  reordered  product_id\n",
       "0             2          1          26\n",
       "1             4          0           2\n",
       "2             5          8          12\n",
       "3             6          0           4\n",
       "4             7         13          14\n",
       "...         ...        ...         ...\n",
       "149621   206203          6          27\n",
       "149622   206206         15          21\n",
       "149623   206207         41          46\n",
       "149624   206208         87         125\n",
       "149625   206209          8          25\n",
       "\n",
       "[149626 rows x 3 columns]"
      ]
     },
     "metadata": {},
     "output_type": "display_data"
    }
   ],
   "source": [
    "pro_reor=ordenes.groupby(\"user_id\")[\"reordered\"].sum().reset_index()\n",
    "total_pro=ordenes.groupby(\"user_id\")[\"product_id\"].count().reset_index()\n",
    "\n",
    "pro_usu=pro_reor.merge(total_pro, on= \"user_id\",how='left')\n",
    "display(pro_usu)"
   ]
  },
  {
   "cell_type": "code",
   "execution_count": 63,
   "id": "dd70186b",
   "metadata": {},
   "outputs": [],
   "source": [
    "def proporcion(row):  # función para cálculo de proporción\n",
    "    if row['product_id'] == 0:\n",
    "        return 0  # Manejar división por cero\n",
    "    return row['reordered'] / row['product_id']"
   ]
  },
  {
   "cell_type": "code",
   "execution_count": 64,
   "id": "8b65fb3d",
   "metadata": {},
   "outputs": [
    {
     "data": {
      "text/html": [
       "<div>\n",
       "<style scoped>\n",
       "    .dataframe tbody tr th:only-of-type {\n",
       "        vertical-align: middle;\n",
       "    }\n",
       "\n",
       "    .dataframe tbody tr th {\n",
       "        vertical-align: top;\n",
       "    }\n",
       "\n",
       "    .dataframe thead th {\n",
       "        text-align: right;\n",
       "    }\n",
       "</style>\n",
       "<table border=\"1\" class=\"dataframe\">\n",
       "  <thead>\n",
       "    <tr style=\"text-align: right;\">\n",
       "      <th></th>\n",
       "      <th>user_id</th>\n",
       "      <th>reordered</th>\n",
       "      <th>product_id</th>\n",
       "      <th>proporcion</th>\n",
       "    </tr>\n",
       "  </thead>\n",
       "  <tbody>\n",
       "    <tr>\n",
       "      <th>0</th>\n",
       "      <td>2</td>\n",
       "      <td>1</td>\n",
       "      <td>26</td>\n",
       "      <td>0.038462</td>\n",
       "    </tr>\n",
       "    <tr>\n",
       "      <th>1</th>\n",
       "      <td>4</td>\n",
       "      <td>0</td>\n",
       "      <td>2</td>\n",
       "      <td>0.000000</td>\n",
       "    </tr>\n",
       "    <tr>\n",
       "      <th>2</th>\n",
       "      <td>5</td>\n",
       "      <td>8</td>\n",
       "      <td>12</td>\n",
       "      <td>0.666667</td>\n",
       "    </tr>\n",
       "    <tr>\n",
       "      <th>3</th>\n",
       "      <td>6</td>\n",
       "      <td>0</td>\n",
       "      <td>4</td>\n",
       "      <td>0.000000</td>\n",
       "    </tr>\n",
       "    <tr>\n",
       "      <th>4</th>\n",
       "      <td>7</td>\n",
       "      <td>13</td>\n",
       "      <td>14</td>\n",
       "      <td>0.928571</td>\n",
       "    </tr>\n",
       "    <tr>\n",
       "      <th>...</th>\n",
       "      <td>...</td>\n",
       "      <td>...</td>\n",
       "      <td>...</td>\n",
       "      <td>...</td>\n",
       "    </tr>\n",
       "    <tr>\n",
       "      <th>149621</th>\n",
       "      <td>206203</td>\n",
       "      <td>6</td>\n",
       "      <td>27</td>\n",
       "      <td>0.222222</td>\n",
       "    </tr>\n",
       "    <tr>\n",
       "      <th>149622</th>\n",
       "      <td>206206</td>\n",
       "      <td>15</td>\n",
       "      <td>21</td>\n",
       "      <td>0.714286</td>\n",
       "    </tr>\n",
       "    <tr>\n",
       "      <th>149623</th>\n",
       "      <td>206207</td>\n",
       "      <td>41</td>\n",
       "      <td>46</td>\n",
       "      <td>0.891304</td>\n",
       "    </tr>\n",
       "    <tr>\n",
       "      <th>149624</th>\n",
       "      <td>206208</td>\n",
       "      <td>87</td>\n",
       "      <td>125</td>\n",
       "      <td>0.696000</td>\n",
       "    </tr>\n",
       "    <tr>\n",
       "      <th>149625</th>\n",
       "      <td>206209</td>\n",
       "      <td>8</td>\n",
       "      <td>25</td>\n",
       "      <td>0.320000</td>\n",
       "    </tr>\n",
       "  </tbody>\n",
       "</table>\n",
       "<p>149626 rows × 4 columns</p>\n",
       "</div>"
      ],
      "text/plain": [
       "        user_id  reordered  product_id  proporcion\n",
       "0             2          1          26    0.038462\n",
       "1             4          0           2    0.000000\n",
       "2             5          8          12    0.666667\n",
       "3             6          0           4    0.000000\n",
       "4             7         13          14    0.928571\n",
       "...         ...        ...         ...         ...\n",
       "149621   206203          6          27    0.222222\n",
       "149622   206206         15          21    0.714286\n",
       "149623   206207         41          46    0.891304\n",
       "149624   206208         87         125    0.696000\n",
       "149625   206209          8          25    0.320000\n",
       "\n",
       "[149626 rows x 4 columns]"
      ]
     },
     "metadata": {},
     "output_type": "display_data"
    }
   ],
   "source": [
    " pro_usu[\"proporcion\"]=pro_usu.apply(proporcion, axis=1) # aplicando función en columna\n",
    "\n",
    "display(pro_usu)"
   ]
  },
  {
   "cell_type": "code",
   "execution_count": 65,
   "id": "e1d684d6",
   "metadata": {},
   "outputs": [
    {
     "data": {
      "text/plain": [
       "0.4948531736151642"
      ]
     },
     "execution_count": 65,
     "metadata": {},
     "output_type": "execute_result"
    }
   ],
   "source": [
    "pro_usu[\"proporcion\"].mean()"
   ]
  },
  {
   "cell_type": "markdown",
   "id": "BgJSvXDsleXz",
   "metadata": {
    "id": "BgJSvXDsleXz"
   },
   "source": [
    "Los usuarios en promedio tiene una proporción de repedido de 0.49, es decir el 49% de productos que compra ya lo había comprado antes."
   ]
  },
  {
   "cell_type": "markdown",
   "id": "92d35137",
   "metadata": {
    "id": "92d35137"
   },
   "source": [
    "### [C5] ¿Cuáles son los 20 principales artículos que las personas ponen primero en sus carritos?"
   ]
  },
  {
   "cell_type": "code",
   "execution_count": 66,
   "id": "0ae57274",
   "metadata": {
    "id": "0ae57274",
    "scrolled": true
   },
   "outputs": [],
   "source": [
    "uno_en_car =order_products[order_products[\"add_to_cart_order\"]==1]"
   ]
  },
  {
   "cell_type": "code",
   "execution_count": 67,
   "id": "forty-netherlands",
   "metadata": {
    "id": "forty-netherlands",
    "scrolled": true
   },
   "outputs": [
    {
     "name": "stdout",
     "output_type": "stream",
     "text": [
      "       product_id  add_to_cart_order\n",
      "13414       24852              15562\n",
      "7127        13176              11026\n",
      "15028       27845               4363\n",
      "11384       21137               3946\n",
      "25439       47209               3390\n",
      "11786       21903               3336\n",
      "25732       47766               3044\n",
      "10622       19660               2336\n",
      "9050        16797               2308\n",
      "15102       27966               2024\n",
      "24024       44632               1914\n",
      "26519       49235               1797\n",
      "25658       47626               1737\n",
      "115           196               1733\n",
      "20853       38689               1397\n",
      "14158       26209               1370\n",
      "6660        12341               1340\n",
      "3153         5785               1310\n",
      "14639       27086               1309\n"
     ]
    }
   ],
   "source": [
    "uno_en_car = uno_en_car.groupby(\"product_id\")[\"add_to_cart_order\"].count().reset_index()\n",
    "uno_en_car = uno_en_car.sort_values(by=\"add_to_cart_order\",ascending=False)\n",
    "uno_en_car20=uno_en_car[0:19]\n",
    "print(uno_en_car20)"
   ]
  },
  {
   "cell_type": "code",
   "execution_count": 68,
   "id": "08e41ec2",
   "metadata": {
    "id": "08e41ec2"
   },
   "outputs": [
    {
     "name": "stdout",
     "output_type": "stream",
     "text": [
      "    product_id                 product_name  add_to_cart_order\n",
      "0        24852                       BANANA              15562\n",
      "1        13176       BAG OF ORGANIC BANANAS              11026\n",
      "2        27845           ORGANIC WHOLE MILK               4363\n",
      "3        21137         ORGANIC STRAWBERRIES               3946\n",
      "4        47209         ORGANIC HASS AVOCADO               3390\n",
      "5        21903         ORGANIC BABY SPINACH               3336\n",
      "6        47766              ORGANIC AVOCADO               3044\n",
      "7        19660                 SPRING WATER               2336\n",
      "8        16797                 STRAWBERRIES               2308\n",
      "9        27966          ORGANIC RASPBERRIES               2024\n",
      "10       44632   SPARKLING WATER GRAPEFRUIT               1914\n",
      "11       49235          ORGANIC HALF & HALF               1797\n",
      "12       47626                  LARGE LEMON               1737\n",
      "13         196                         SODA               1733\n",
      "14       38689     ORGANIC REDUCED FAT MILK               1397\n",
      "15       26209                        LIMES               1370\n",
      "16       12341                HASS AVOCADOS               1340\n",
      "17        5785  ORGANIC REDUCED FAT 2% MILK               1310\n",
      "18       27086                  HALF & HALF               1309\n"
     ]
    }
   ],
   "source": [
    "uno_en_car20=uno_en_car20.merge(products,on=\"product_id\",how='left')[[\"product_id\",\"product_name\",\"add_to_cart_order\"]]\n",
    "print(uno_en_car20)"
   ]
  },
  {
   "cell_type": "markdown",
   "id": "28ce9872",
   "metadata": {
    "id": "28ce9872"
   },
   "source": [
    "El articulo más priorizado en los carritos es BANANA"
   ]
  },
  {
   "cell_type": "markdown",
   "id": "uITbFCEoDosC",
   "metadata": {
    "id": "uITbFCEoDosC"
   },
   "source": [
    "### Conclusion general del proyecto:"
   ]
  },
  {
   "cell_type": "markdown",
   "id": "21933307",
   "metadata": {},
   "source": [
    "Los hallazgos encontrados en el análisis de datos de Instacart fueron:\n",
    "La mayor demanda de órdenes se dan entre las 10:00 am y 3:00 pm.\n",
    "Los días de mayor demanda de órdenes son los domingos y lunes.\n",
    "La mayoría vuelve a comprar en 5 a 7 días aproximadamente, o luego de 30 días.\n",
    "Los pedidos que ingresan los miércoles y sábados tienen demanda similiar en horas determinadas.\n",
    "Dentro de los productos más solicitados están los productos orgánicos\n",
    "La mayoría de los clientes compran entre 1 y 45 artículos por orden.La orden con más artículos fue una de 127 productos.\n",
    "El artículo que fue más veces ordenado es Banana.\n",
    "En promedio los productos tienen un 38% de reorden.\n",
    "Los usuarios en promedio tiene una proporción de repedido de 0.49, es decir el 49% de productos que compra ya lo había comprado antes.\n",
    "\n",
    "\n",
    "\n",
    "Por otro lado, se encontró valores ausentes en la tabla \"orders\" en la columna \"days_since_prior_order\", sin embargo se decidió mantenerlos porque esto significaría que el cliente aun no ha hecho un segundo pedido. Además tampoco se reemplazo por un valor 0 porque podría variar la información, se decidió mantener el tipo dato.\n",
    "En el dataframe \"products\" existía valores ausentes en la columna \"product_name\".Reemplazamos estos valores por \"Unknown\".\n",
    "\n",
    "También hay nombres de productos que se repiten.Estos se mantuvieron ya que puede tratarse de mismo producto pero diferente presentaciones. Los product_id si son valores únicos.\n",
    "\n",
    "En el dataframe \"order_products\" existía valores ausentes en la columna \"add_to_cart_order\", y el tipo de dato era float,por que lo que se procedió a cambiar a un  tipo de dato entero y reemplazar los valores ausentes por 999, lo que peritiría el camabio de tipo de dato.\n",
    "\n",
    "En la tabla orders, se encontró valore duplicados y estos se dieron en un momento determinado order_dow= 3 , order_hour_of_day=2 , quizá hubo algún error de sistema en ese horario, seprocedió a eliminar los datos duplicados ya que podrían variar notablemente la data.\n",
    "\n",
    "Pienso que hubo errores en el registro de los nombres, pero podría bastar reconocer el producto por su id, y no ser necesario borrar la información ausente o repetida en nombre de producto.\n",
    "\n",
    "Todos los productos con nombre de productos ausentes son de \"aisle_id\"=100 y \"department_id\"=21. Sin embargo no hay registro de department_id =100, y si existe aisle_id=21.\n",
    "\n",
    "\n",
    "\n",
    "Con los hallazgos se pueden encontrar algunos patrones de compras, como los productos más vendidos y los horarios y días de mayor demanda.Así como la frecuencia de compra de los clientes.\n",
    "\n",
    "Como sugerencia es revisar el correcto registro de sus órdenes porque de aqui salen información valiosa para la toma de decisiones, se encontró un id_dep en órdenes que no se registraba en la tabla id_departamentos. Para ello podrían restringir el llenado con una lista para la validación de datos, o que muestre error si se resgistra algún valor no existente.\n",
    " \n",
    "Instacart dependiendo de cuáles sean sus objetivos comerciales, podría ofrecer ofertas los días de demanda baja para nivelarla, o por el contrario ofrecerlas en los dias de mayor demanda para aumentar aun más las ventas. Además abastecercer de stock en los producto más demandados, reforzar personal para dar una buena y completa atención a todos sus clientes.\n",
    "La importancia de conocer la demanda de los productos comestibles es poder tener una buena politica de reabastecimiento de sus productos, ni mucho porque se vencen y se pierde dinero, ni poco porque se rompe stock y no satisface la demanda.\n",
    " \n",
    " \n",
    "Respecto al proyecto me costó un poco enteder la información que contenía cada tabla, la necesidad de unir dos tablas a través de una key para obtener más información. Tambien aprendí que la función groupby devolvía una series y no un dataframe.\n",
    " \n",
    " \n",
    " \n",
    " \n",
    " \n",
    " "
   ]
  },
  {
   "cell_type": "markdown",
   "id": "d3609426",
   "metadata": {},
   "source": [
    "<div class=\"alert alert-block alert-success\">    \n",
    "<b>Comentario del revisor</b> <a class=\"tocSkip\"></a>\n",
    "    \n",
    "¡Qué gran trabajo has hecho!  &#128077;  Podemos aprobar el proyecto. <br>\n",
    "\n",
    "</div>"
   ]
  }
 ],
 "metadata": {
  "colab": {
   "provenance": []
  },
  "kernelspec": {
   "display_name": "Python 3 (ipykernel)",
   "language": "python",
   "name": "python3"
  },
  "language_info": {
   "codemirror_mode": {
    "name": "ipython",
    "version": 3
   },
   "file_extension": ".py",
   "mimetype": "text/x-python",
   "name": "python",
   "nbconvert_exporter": "python",
   "pygments_lexer": "ipython3",
   "version": "3.9.5"
  },
  "toc": {
   "base_numbering": 1,
   "nav_menu": {},
   "number_sections": true,
   "sideBar": true,
   "skip_h1_title": true,
   "title_cell": "Table of Contents",
   "title_sidebar": "Contents",
   "toc_cell": false,
   "toc_position": {},
   "toc_section_display": true,
   "toc_window_display": false
  },
  "vscode": {
   "interpreter": {
    "hash": "01a7be9ec63e704a62cefc5fe7a4756944464ee731be31632bdf42a4cb4688cf"
   }
  }
 },
 "nbformat": 4,
 "nbformat_minor": 5
}
